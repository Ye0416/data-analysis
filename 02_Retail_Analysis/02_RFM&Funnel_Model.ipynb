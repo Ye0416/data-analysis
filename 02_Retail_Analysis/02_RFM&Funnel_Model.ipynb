{
 "cells": [
  {
   "cell_type": "code",
   "execution_count": 1,
   "id": "4dd8b1db",
   "metadata": {},
   "outputs": [],
   "source": [
    "import pandas as pd"
   ]
  },
  {
   "cell_type": "code",
   "execution_count": 2,
   "id": "169e870f",
   "metadata": {},
   "outputs": [],
   "source": [
    "temp = pd.read_csv('clean.csv')"
   ]
  },
  {
   "cell_type": "code",
   "execution_count": 3,
   "id": "f74fd0c6",
   "metadata": {},
   "outputs": [
    {
     "data": {
      "text/html": [
       "<div>\n",
       "<style scoped>\n",
       "    .dataframe tbody tr th:only-of-type {\n",
       "        vertical-align: middle;\n",
       "    }\n",
       "\n",
       "    .dataframe tbody tr th {\n",
       "        vertical-align: top;\n",
       "    }\n",
       "\n",
       "    .dataframe thead th {\n",
       "        text-align: right;\n",
       "    }\n",
       "</style>\n",
       "<table border=\"1\" class=\"dataframe\">\n",
       "  <thead>\n",
       "    <tr style=\"text-align: right;\">\n",
       "      <th></th>\n",
       "      <th>userID</th>\n",
       "      <th>itemID</th>\n",
       "      <th>category</th>\n",
       "      <th>behavior</th>\n",
       "      <th>date</th>\n",
       "      <th>time</th>\n",
       "    </tr>\n",
       "  </thead>\n",
       "  <tbody>\n",
       "    <tr>\n",
       "      <th>0</th>\n",
       "      <td>1</td>\n",
       "      <td>2576651</td>\n",
       "      <td>149192</td>\n",
       "      <td>pv</td>\n",
       "      <td>2017-11-25</td>\n",
       "      <td>01:21:25</td>\n",
       "    </tr>\n",
       "    <tr>\n",
       "      <th>1</th>\n",
       "      <td>1</td>\n",
       "      <td>3830808</td>\n",
       "      <td>4181361</td>\n",
       "      <td>pv</td>\n",
       "      <td>2017-11-25</td>\n",
       "      <td>07:04:53</td>\n",
       "    </tr>\n",
       "    <tr>\n",
       "      <th>2</th>\n",
       "      <td>1</td>\n",
       "      <td>4365585</td>\n",
       "      <td>2520377</td>\n",
       "      <td>pv</td>\n",
       "      <td>2017-11-25</td>\n",
       "      <td>07:49:06</td>\n",
       "    </tr>\n",
       "    <tr>\n",
       "      <th>3</th>\n",
       "      <td>1</td>\n",
       "      <td>4606018</td>\n",
       "      <td>2735466</td>\n",
       "      <td>pv</td>\n",
       "      <td>2017-11-25</td>\n",
       "      <td>13:28:01</td>\n",
       "    </tr>\n",
       "    <tr>\n",
       "      <th>4</th>\n",
       "      <td>1</td>\n",
       "      <td>230380</td>\n",
       "      <td>411153</td>\n",
       "      <td>pv</td>\n",
       "      <td>2017-11-25</td>\n",
       "      <td>21:22:22</td>\n",
       "    </tr>\n",
       "    <tr>\n",
       "      <th>...</th>\n",
       "      <td>...</td>\n",
       "      <td>...</td>\n",
       "      <td>...</td>\n",
       "      <td>...</td>\n",
       "      <td>...</td>\n",
       "      <td>...</td>\n",
       "    </tr>\n",
       "    <tr>\n",
       "      <th>98914479</th>\n",
       "      <td>999999</td>\n",
       "      <td>4797808</td>\n",
       "      <td>11120</td>\n",
       "      <td>pv</td>\n",
       "      <td>2017-12-03</td>\n",
       "      <td>09:30:03</td>\n",
       "    </tr>\n",
       "    <tr>\n",
       "      <th>98914480</th>\n",
       "      <td>999999</td>\n",
       "      <td>4613472</td>\n",
       "      <td>4602841</td>\n",
       "      <td>pv</td>\n",
       "      <td>2017-12-03</td>\n",
       "      <td>09:36:06</td>\n",
       "    </tr>\n",
       "    <tr>\n",
       "      <th>98914481</th>\n",
       "      <td>999999</td>\n",
       "      <td>3647364</td>\n",
       "      <td>2304296</td>\n",
       "      <td>pv</td>\n",
       "      <td>2017-12-03</td>\n",
       "      <td>09:36:32</td>\n",
       "    </tr>\n",
       "    <tr>\n",
       "      <th>98914482</th>\n",
       "      <td>999999</td>\n",
       "      <td>1903801</td>\n",
       "      <td>2304296</td>\n",
       "      <td>pv</td>\n",
       "      <td>2017-12-03</td>\n",
       "      <td>09:37:07</td>\n",
       "    </tr>\n",
       "    <tr>\n",
       "      <th>98914483</th>\n",
       "      <td>999999</td>\n",
       "      <td>3696094</td>\n",
       "      <td>4602841</td>\n",
       "      <td>pv</td>\n",
       "      <td>2017-12-03</td>\n",
       "      <td>09:38:11</td>\n",
       "    </tr>\n",
       "  </tbody>\n",
       "</table>\n",
       "<p>98914484 rows × 6 columns</p>\n",
       "</div>"
      ],
      "text/plain": [
       "          userID   itemID  category behavior        date      time\n",
       "0              1  2576651    149192       pv  2017-11-25  01:21:25\n",
       "1              1  3830808   4181361       pv  2017-11-25  07:04:53\n",
       "2              1  4365585   2520377       pv  2017-11-25  07:49:06\n",
       "3              1  4606018   2735466       pv  2017-11-25  13:28:01\n",
       "4              1   230380    411153       pv  2017-11-25  21:22:22\n",
       "...          ...      ...       ...      ...         ...       ...\n",
       "98914479  999999  4797808     11120       pv  2017-12-03  09:30:03\n",
       "98914480  999999  4613472   4602841       pv  2017-12-03  09:36:06\n",
       "98914481  999999  3647364   2304296       pv  2017-12-03  09:36:32\n",
       "98914482  999999  1903801   2304296       pv  2017-12-03  09:37:07\n",
       "98914483  999999  3696094   4602841       pv  2017-12-03  09:38:11\n",
       "\n",
       "[98914484 rows x 6 columns]"
      ]
     },
     "execution_count": 3,
     "metadata": {},
     "output_type": "execute_result"
    }
   ],
   "source": [
    "temp"
   ]
  },
  {
   "cell_type": "markdown",
   "id": "8d2413fd",
   "metadata": {},
   "source": [
    "##### 5.1 User jouney ( individul )"
   ]
  },
  {
   "cell_type": "code",
   "execution_count": 4,
   "id": "81cc9cca",
   "metadata": {},
   "outputs": [],
   "source": [
    "behavior_counts = temp.groupby(['userID', 'behavior']).size().unstack(fill_value=0)"
   ]
  },
  {
   "cell_type": "code",
   "execution_count": 5,
   "id": "fda61bb4",
   "metadata": {},
   "outputs": [
    {
     "data": {
      "text/html": [
       "<div>\n",
       "<style scoped>\n",
       "    .dataframe tbody tr th:only-of-type {\n",
       "        vertical-align: middle;\n",
       "    }\n",
       "\n",
       "    .dataframe tbody tr th {\n",
       "        vertical-align: top;\n",
       "    }\n",
       "\n",
       "    .dataframe thead th {\n",
       "        text-align: right;\n",
       "    }\n",
       "</style>\n",
       "<table border=\"1\" class=\"dataframe\">\n",
       "  <thead>\n",
       "    <tr style=\"text-align: right;\">\n",
       "      <th>behavior</th>\n",
       "      <th>buy</th>\n",
       "      <th>cart</th>\n",
       "      <th>fav</th>\n",
       "      <th>pv</th>\n",
       "    </tr>\n",
       "    <tr>\n",
       "      <th>userID</th>\n",
       "      <th></th>\n",
       "      <th></th>\n",
       "      <th></th>\n",
       "      <th></th>\n",
       "    </tr>\n",
       "  </thead>\n",
       "  <tbody>\n",
       "    <tr>\n",
       "      <th>1</th>\n",
       "      <td>0</td>\n",
       "      <td>0</td>\n",
       "      <td>0</td>\n",
       "      <td>53</td>\n",
       "    </tr>\n",
       "    <tr>\n",
       "      <th>2</th>\n",
       "      <td>7</td>\n",
       "      <td>3</td>\n",
       "      <td>7</td>\n",
       "      <td>54</td>\n",
       "    </tr>\n",
       "    <tr>\n",
       "      <th>3</th>\n",
       "      <td>0</td>\n",
       "      <td>15</td>\n",
       "      <td>5</td>\n",
       "      <td>33</td>\n",
       "    </tr>\n",
       "    <tr>\n",
       "      <th>4</th>\n",
       "      <td>4</td>\n",
       "      <td>13</td>\n",
       "      <td>0</td>\n",
       "      <td>268</td>\n",
       "    </tr>\n",
       "    <tr>\n",
       "      <th>5</th>\n",
       "      <td>0</td>\n",
       "      <td>0</td>\n",
       "      <td>0</td>\n",
       "      <td>64</td>\n",
       "    </tr>\n",
       "    <tr>\n",
       "      <th>...</th>\n",
       "      <td>...</td>\n",
       "      <td>...</td>\n",
       "      <td>...</td>\n",
       "      <td>...</td>\n",
       "    </tr>\n",
       "    <tr>\n",
       "      <th>1018007</th>\n",
       "      <td>0</td>\n",
       "      <td>0</td>\n",
       "      <td>1</td>\n",
       "      <td>161</td>\n",
       "    </tr>\n",
       "    <tr>\n",
       "      <th>1018008</th>\n",
       "      <td>0</td>\n",
       "      <td>0</td>\n",
       "      <td>17</td>\n",
       "      <td>32</td>\n",
       "    </tr>\n",
       "    <tr>\n",
       "      <th>1018009</th>\n",
       "      <td>2</td>\n",
       "      <td>21</td>\n",
       "      <td>2</td>\n",
       "      <td>286</td>\n",
       "    </tr>\n",
       "    <tr>\n",
       "      <th>1018010</th>\n",
       "      <td>6</td>\n",
       "      <td>2</td>\n",
       "      <td>0</td>\n",
       "      <td>72</td>\n",
       "    </tr>\n",
       "    <tr>\n",
       "      <th>1018011</th>\n",
       "      <td>1</td>\n",
       "      <td>0</td>\n",
       "      <td>0</td>\n",
       "      <td>41</td>\n",
       "    </tr>\n",
       "  </tbody>\n",
       "</table>\n",
       "<p>987984 rows × 4 columns</p>\n",
       "</div>"
      ],
      "text/plain": [
       "behavior  buy  cart  fav   pv\n",
       "userID                       \n",
       "1           0     0    0   53\n",
       "2           7     3    7   54\n",
       "3           0    15    5   33\n",
       "4           4    13    0  268\n",
       "5           0     0    0   64\n",
       "...       ...   ...  ...  ...\n",
       "1018007     0     0    1  161\n",
       "1018008     0     0   17   32\n",
       "1018009     2    21    2  286\n",
       "1018010     6     2    0   72\n",
       "1018011     1     0    0   41\n",
       "\n",
       "[987984 rows x 4 columns]"
      ]
     },
     "execution_count": 5,
     "metadata": {},
     "output_type": "execute_result"
    }
   ],
   "source": [
    "behavior_counts"
   ]
  },
  {
   "cell_type": "code",
   "execution_count": 59,
   "id": "40172aa1",
   "metadata": {},
   "outputs": [],
   "source": [
    "### if count(user behavior) == 0, an eps is needed, otherwise a NaN would be recieved\n",
    "eps = 1e-10\n",
    "\n",
    "pv_to_buy_rate = (behavior_counts['buy']+eps) / (behavior_counts['pv']+eps)\n",
    "pv_to_cart_or_fav_rate = (behavior_counts['cart'] + behavior_counts['fav']+eps) / (behavior_counts['pv']+eps)\n",
    "# cart_or_fav_to_buy_rate = (behavior_counts['buy']+eps) / (behavior_counts['cart'] + behavior_counts['fav']+eps)\n",
    "\n",
    "# there would be a special situation when count(cart+fav)==0\n",
    "cart_or_fav_to_buy_rate = behavior_counts.apply(\n",
    "    lambda row: (row['buy'] / (row['cart'] + row['fav'])) \n",
    "    if (row['cart'] + row['fav']) > 0 else 0, axis=1)"
   ]
  },
  {
   "cell_type": "code",
   "execution_count": 60,
   "id": "5c1a14a4",
   "metadata": {},
   "outputs": [],
   "source": [
    "conversion_rates = pd.DataFrame({\n",
    "    'pv_to_cart/fav_rate': pv_to_cart_or_fav_rate,\n",
    "    'cart/fav_to_buy_rate': cart_or_fav_to_buy_rate,\n",
    "    'pv_to_buy_rate': pv_to_buy_rate\n",
    "})"
   ]
  },
  {
   "cell_type": "code",
   "execution_count": 61,
   "id": "15d6841a",
   "metadata": {},
   "outputs": [
    {
     "data": {
      "text/html": [
       "<div>\n",
       "<style scoped>\n",
       "    .dataframe tbody tr th:only-of-type {\n",
       "        vertical-align: middle;\n",
       "    }\n",
       "\n",
       "    .dataframe tbody tr th {\n",
       "        vertical-align: top;\n",
       "    }\n",
       "\n",
       "    .dataframe thead th {\n",
       "        text-align: right;\n",
       "    }\n",
       "</style>\n",
       "<table border=\"1\" class=\"dataframe\">\n",
       "  <thead>\n",
       "    <tr style=\"text-align: right;\">\n",
       "      <th></th>\n",
       "      <th>pv_to_cart/fav_rate</th>\n",
       "      <th>cart/fav_to_buy_rate</th>\n",
       "      <th>pv_to_buy_rate</th>\n",
       "    </tr>\n",
       "    <tr>\n",
       "      <th>userID</th>\n",
       "      <th></th>\n",
       "      <th></th>\n",
       "      <th></th>\n",
       "    </tr>\n",
       "  </thead>\n",
       "  <tbody>\n",
       "    <tr>\n",
       "      <th>1</th>\n",
       "      <td>0.00%</td>\n",
       "      <td>0.00%</td>\n",
       "      <td>0.00%</td>\n",
       "    </tr>\n",
       "    <tr>\n",
       "      <th>2</th>\n",
       "      <td>18.52%</td>\n",
       "      <td>70.00%</td>\n",
       "      <td>12.96%</td>\n",
       "    </tr>\n",
       "    <tr>\n",
       "      <th>3</th>\n",
       "      <td>60.61%</td>\n",
       "      <td>0.00%</td>\n",
       "      <td>0.00%</td>\n",
       "    </tr>\n",
       "    <tr>\n",
       "      <th>4</th>\n",
       "      <td>4.85%</td>\n",
       "      <td>30.77%</td>\n",
       "      <td>1.49%</td>\n",
       "    </tr>\n",
       "    <tr>\n",
       "      <th>5</th>\n",
       "      <td>0.00%</td>\n",
       "      <td>0.00%</td>\n",
       "      <td>0.00%</td>\n",
       "    </tr>\n",
       "    <tr>\n",
       "      <th>...</th>\n",
       "      <td>...</td>\n",
       "      <td>...</td>\n",
       "      <td>...</td>\n",
       "    </tr>\n",
       "    <tr>\n",
       "      <th>1018007</th>\n",
       "      <td>0.62%</td>\n",
       "      <td>0.00%</td>\n",
       "      <td>0.00%</td>\n",
       "    </tr>\n",
       "    <tr>\n",
       "      <th>1018008</th>\n",
       "      <td>53.13%</td>\n",
       "      <td>0.00%</td>\n",
       "      <td>0.00%</td>\n",
       "    </tr>\n",
       "    <tr>\n",
       "      <th>1018009</th>\n",
       "      <td>8.04%</td>\n",
       "      <td>8.70%</td>\n",
       "      <td>0.70%</td>\n",
       "    </tr>\n",
       "    <tr>\n",
       "      <th>1018010</th>\n",
       "      <td>2.78%</td>\n",
       "      <td>300.00%</td>\n",
       "      <td>8.33%</td>\n",
       "    </tr>\n",
       "    <tr>\n",
       "      <th>1018011</th>\n",
       "      <td>0.00%</td>\n",
       "      <td>0.00%</td>\n",
       "      <td>2.44%</td>\n",
       "    </tr>\n",
       "  </tbody>\n",
       "</table>\n",
       "<p>987984 rows × 3 columns</p>\n",
       "</div>"
      ],
      "text/plain": [
       "        pv_to_cart/fav_rate cart/fav_to_buy_rate pv_to_buy_rate\n",
       "userID                                                         \n",
       "1                     0.00%                0.00%          0.00%\n",
       "2                    18.52%               70.00%         12.96%\n",
       "3                    60.61%                0.00%          0.00%\n",
       "4                     4.85%               30.77%          1.49%\n",
       "5                     0.00%                0.00%          0.00%\n",
       "...                     ...                  ...            ...\n",
       "1018007               0.62%                0.00%          0.00%\n",
       "1018008              53.13%                0.00%          0.00%\n",
       "1018009               8.04%                8.70%          0.70%\n",
       "1018010               2.78%              300.00%          8.33%\n",
       "1018011               0.00%                0.00%          2.44%\n",
       "\n",
       "[987984 rows x 3 columns]"
      ]
     },
     "execution_count": 61,
     "metadata": {},
     "output_type": "execute_result"
    }
   ],
   "source": [
    "conversion_rates = conversion_rates.applymap(lambda x: f\"{x:.2%}\") # f\"{x:.4f}\"\n",
    "conversion_rates"
   ]
  },
  {
   "cell_type": "markdown",
   "id": "497ee74d",
   "metadata": {},
   "source": [
    "###### 5.2 User jouney ( total )"
   ]
  },
  {
   "cell_type": "code",
   "execution_count": 62,
   "id": "a80e8793",
   "metadata": {},
   "outputs": [],
   "source": [
    "behavior_total_counts = temp['behavior'].value_counts()"
   ]
  },
  {
   "cell_type": "code",
   "execution_count": 72,
   "id": "a9cd5a73",
   "metadata": {},
   "outputs": [
    {
     "data": {
      "text/plain": [
       "pv      88596886\n",
       "cart     5466118\n",
       "fav      2852536\n",
       "buy      1998944\n",
       "Name: behavior, dtype: int64"
      ]
     },
     "execution_count": 72,
     "metadata": {},
     "output_type": "execute_result"
    }
   ],
   "source": [
    "behavior_total_counts"
   ]
  },
  {
   "cell_type": "code",
   "execution_count": 84,
   "id": "0a43f08e",
   "metadata": {},
   "outputs": [],
   "source": [
    "stages = {\n",
    "    'PageView': behavior_total_counts.get('pv', 0),\n",
    "    'AddToCart': behavior_total_counts.get('cart', 0),\n",
    "    'AddToFav': behavior_total_counts.get('fav', 0),\n",
    "    'Bought': behavior_total_counts.get('buy', 0)\n",
    "}\n"
   ]
  },
  {
   "cell_type": "code",
   "execution_count": 85,
   "id": "35e0a687",
   "metadata": {
    "scrolled": true
   },
   "outputs": [],
   "source": [
    "stages['CartAndFav'] = stages['AddToCart'] + stages['AddToFav']\n",
    "del stages['AddToCart'],stages['AddToFav']"
   ]
  },
  {
   "cell_type": "code",
   "execution_count": 87,
   "id": "30056212",
   "metadata": {},
   "outputs": [],
   "source": [
    "funnel_order = ['PageView', 'CartAndFav', 'Bought']\n",
    "\n",
    "funnel_data = {stage: stages[stage] for stage in funnel_order}\n",
    "funnel_stages = list(funnel_data.keys())\n",
    "funnel_values = list(funnel_data.values())\n",
    "\n",
    "# get percent value, based on pv\n",
    "funnel_percentages = [value / funnel_values[0] * 100 for value in funnel_values]"
   ]
  },
  {
   "cell_type": "code",
   "execution_count": 95,
   "id": "7bf23797",
   "metadata": {},
   "outputs": [
    {
     "data": {
      "text/plain": [
       "{'PageView': 88596886, 'CartAndFav': 8318654, 'Bought': 1998944}"
      ]
     },
     "execution_count": 95,
     "metadata": {},
     "output_type": "execute_result"
    }
   ],
   "source": [
    "funnel_data"
   ]
  },
  {
   "cell_type": "code",
   "execution_count": 94,
   "id": "3c0af65d",
   "metadata": {},
   "outputs": [
    {
     "data": {
      "image/png": "[encoded data removed]",
      "text/plain": [
       "<Figure size 800x500 with 1 Axes>"
      ]
     },
     "metadata": {},
     "output_type": "display_data"
    }
   ],
   "source": [
    "import matplotlib.pyplot as plt\n",
    "\n",
    "\n",
    "fig, ax = plt.subplots(figsize=(8, 5))\n",
    "\n",
    "y_pos = range(len(funnel_stages))\n",
    "\n",
    "bars = ax.barh(y_pos, funnel_percentages, align='center')\n",
    "\n",
    "# reserve\n",
    "ax.set_yticks(y_pos)\n",
    "ax.set_yticklabels(funnel_stages)\n",
    "ax.invert_yaxis()\n",
    "\n",
    "for bar, percentage, value in zip(bars, funnel_percentages, funnel_values):\n",
    "    text = f\"{percentage:.2f}% ({value})\"\n",
    "    ax.text(bar.get_width(), bar.get_y() + bar.get_height() / 2, text,\n",
    "             va='center', ha='left')\n",
    "\n",
    "ax.set_xlabel('Percentage')\n",
    "ax.set_title('Funnel Chart')\n",
    "\n",
    "plt.tight_layout()\n",
    "plt.show()"
   ]
  },
  {
   "cell_type": "code",
   "execution_count": 99,
   "id": "0ca788ec",
   "metadata": {},
   "outputs": [
    {
     "data": {
      "application/vnd.plotly.v1+json": {
       "config": {
        "plotlyServerURL": "https://plot.ly"
       },
       "data": [
        {
         "text": [
          "88596886 (100.00%)",
          "8318654 (9.39%)",
          "1998944 (2.26%)"
         ],
         "textinfo": "text+value",
         "type": "funnel",
         "x": [
          88596886,
          8318654,
          1998944
         ],
         "y": [
          "PageView",
          "CartAndFav",
          "Bought"
         ]
        }
       ],
       "layout": {
        "funnelmode": "stack",
        "template": {
         "data": {
          "bar": [
           {
            "error_x": {
             "color": "#2a3f5f"
            },
            "error_y": {
             "color": "#2a3f5f"
            },
            "marker": {
             "line": {
              "color": "#E5ECF6",
              "width": 0.5
             },
             "pattern": {
              "fillmode": "overlay",
              "size": 10,
              "solidity": 0.2
             }
            },
            "type": "bar"
           }
          ],
          "barpolar": [
           {
            "marker": {
             "line": {
              "color": "#E5ECF6",
              "width": 0.5
             },
             "pattern": {
              "fillmode": "overlay",
              "size": 10,
              "solidity": 0.2
             }
            },
            "type": "barpolar"
           }
          ],
          "carpet": [
           {
            "aaxis": {
             "endlinecolor": "#2a3f5f",
             "gridcolor": "white",
             "linecolor": "white",
             "minorgridcolor": "white",
             "startlinecolor": "#2a3f5f"
            },
            "baxis": {
             "endlinecolor": "#2a3f5f",
             "gridcolor": "white",
             "linecolor": "white",
             "minorgridcolor": "white",
             "startlinecolor": "#2a3f5f"
            },
            "type": "carpet"
           }
          ],
          "choropleth": [
           {
            "colorbar": {
             "outlinewidth": 0,
             "ticks": ""
            },
            "type": "choropleth"
           }
          ],
          "contour": [
           {
            "colorbar": {
             "outlinewidth": 0,
             "ticks": ""
            },
            "colorscale": [
             [
              0,
              "#0d0887"
             ],
             [
              0.1111111111111111,
              "#46039f"
             ],
             [
              0.2222222222222222,
              "#7201a8"
             ],
             [
              0.3333333333333333,
              "#9c179e"
             ],
             [
              0.4444444444444444,
              "#bd3786"
             ],
             [
              0.5555555555555556,
              "#d8576b"
             ],
             [
              0.6666666666666666,
              "#ed7953"
             ],
             [
              0.7777777777777778,
              "#fb9f3a"
             ],
             [
              0.8888888888888888,
              "#fdca26"
             ],
             [
              1,
              "#f0f921"
             ]
            ],
            "type": "contour"
           }
          ],
          "contourcarpet": [
           {
            "colorbar": {
             "outlinewidth": 0,
             "ticks": ""
            },
            "type": "contourcarpet"
           }
          ],
          "heatmap": [
           {
            "colorbar": {
             "outlinewidth": 0,
             "ticks": ""
            },
            "colorscale": [
             [
              0,
              "#0d0887"
             ],
             [
              0.1111111111111111,
              "#46039f"
             ],
             [
              0.2222222222222222,
              "#7201a8"
             ],
             [
              0.3333333333333333,
              "#9c179e"
             ],
             [
              0.4444444444444444,
              "#bd3786"
             ],
             [
              0.5555555555555556,
              "#d8576b"
             ],
             [
              0.6666666666666666,
              "#ed7953"
             ],
             [
              0.7777777777777778,
              "#fb9f3a"
             ],
             [
              0.8888888888888888,
              "#fdca26"
             ],
             [
              1,
              "#f0f921"
             ]
            ],
            "type": "heatmap"
           }
          ],
          "heatmapgl": [
           {
            "colorbar": {
             "outlinewidth": 0,
             "ticks": ""
            },
            "colorscale": [
             [
              0,
              "#0d0887"
             ],
             [
              0.1111111111111111,
              "#46039f"
             ],
             [
              0.2222222222222222,
              "#7201a8"
             ],
             [
              0.3333333333333333,
              "#9c179e"
             ],
             [
              0.4444444444444444,
              "#bd3786"
             ],
             [
              0.5555555555555556,
              "#d8576b"
             ],
             [
              0.6666666666666666,
              "#ed7953"
             ],
             [
              0.7777777777777778,
              "#fb9f3a"
             ],
             [
              0.8888888888888888,
              "#fdca26"
             ],
             [
              1,
              "#f0f921"
             ]
            ],
            "type": "heatmapgl"
           }
          ],
          "histogram": [
           {
            "marker": {
             "pattern": {
              "fillmode": "overlay",
              "size": 10,
              "solidity": 0.2
             }
            },
            "type": "histogram"
           }
          ],
          "histogram2d": [
           {
            "colorbar": {
             "outlinewidth": 0,
             "ticks": ""
            },
            "colorscale": [
             [
              0,
              "#0d0887"
             ],
             [
              0.1111111111111111,
              "#46039f"
             ],
             [
              0.2222222222222222,
              "#7201a8"
             ],
             [
              0.3333333333333333,
              "#9c179e"
             ],
             [
              0.4444444444444444,
              "#bd3786"
             ],
             [
              0.5555555555555556,
              "#d8576b"
             ],
             [
              0.6666666666666666,
              "#ed7953"
             ],
             [
              0.7777777777777778,
              "#fb9f3a"
             ],
             [
              0.8888888888888888,
              "#fdca26"
             ],
             [
              1,
              "#f0f921"
             ]
            ],
            "type": "histogram2d"
           }
          ],
          "histogram2dcontour": [
           {
            "colorbar": {
             "outlinewidth": 0,
             "ticks": ""
            },
            "colorscale": [
             [
              0,
              "#0d0887"
             ],
             [
              0.1111111111111111,
              "#46039f"
             ],
             [
              0.2222222222222222,
              "#7201a8"
             ],
             [
              0.3333333333333333,
              "#9c179e"
             ],
             [
              0.4444444444444444,
              "#bd3786"
             ],
             [
              0.5555555555555556,
              "#d8576b"
             ],
             [
              0.6666666666666666,
              "#ed7953"
             ],
             [
              0.7777777777777778,
              "#fb9f3a"
             ],
             [
              0.8888888888888888,
              "#fdca26"
             ],
             [
              1,
              "#f0f921"
             ]
            ],
            "type": "histogram2dcontour"
           }
          ],
          "mesh3d": [
           {
            "colorbar": {
             "outlinewidth": 0,
             "ticks": ""
            },
            "type": "mesh3d"
           }
          ],
          "parcoords": [
           {
            "line": {
             "colorbar": {
              "outlinewidth": 0,
              "ticks": ""
             }
            },
            "type": "parcoords"
           }
          ],
          "pie": [
           {
            "automargin": true,
            "type": "pie"
           }
          ],
          "scatter": [
           {
            "fillpattern": {
             "fillmode": "overlay",
             "size": 10,
             "solidity": 0.2
            },
            "type": "scatter"
           }
          ],
          "scatter3d": [
           {
            "line": {
             "colorbar": {
              "outlinewidth": 0,
              "ticks": ""
             }
            },
            "marker": {
             "colorbar": {
              "outlinewidth": 0,
              "ticks": ""
             }
            },
            "type": "scatter3d"
           }
          ],
          "scattercarpet": [
           {
            "marker": {
             "colorbar": {
              "outlinewidth": 0,
              "ticks": ""
             }
            },
            "type": "scattercarpet"
           }
          ],
          "scattergeo": [
           {
            "marker": {
             "colorbar": {
              "outlinewidth": 0,
              "ticks": ""
             }
            },
            "type": "scattergeo"
           }
          ],
          "scattergl": [
           {
            "marker": {
             "colorbar": {
              "outlinewidth": 0,
              "ticks": ""
             }
            },
            "type": "scattergl"
           }
          ],
          "scattermapbox": [
           {
            "marker": {
             "colorbar": {
              "outlinewidth": 0,
              "ticks": ""
             }
            },
            "type": "scattermapbox"
           }
          ],
          "scatterpolar": [
           {
            "marker": {
             "colorbar": {
              "outlinewidth": 0,
              "ticks": ""
             }
            },
            "type": "scatterpolar"
           }
          ],
          "scatterpolargl": [
           {
            "marker": {
             "colorbar": {
              "outlinewidth": 0,
              "ticks": ""
             }
            },
            "type": "scatterpolargl"
           }
          ],
          "scatterternary": [
           {
            "marker": {
             "colorbar": {
              "outlinewidth": 0,
              "ticks": ""
             }
            },
            "type": "scatterternary"
           }
          ],
          "surface": [
           {
            "colorbar": {
             "outlinewidth": 0,
             "ticks": ""
            },
            "colorscale": [
             [
              0,
              "#0d0887"
             ],
             [
              0.1111111111111111,
              "#46039f"
             ],
             [
              0.2222222222222222,
              "#7201a8"
             ],
             [
              0.3333333333333333,
              "#9c179e"
             ],
             [
              0.4444444444444444,
              "#bd3786"
             ],
             [
              0.5555555555555556,
              "#d8576b"
             ],
             [
              0.6666666666666666,
              "#ed7953"
             ],
             [
              0.7777777777777778,
              "#fb9f3a"
             ],
             [
              0.8888888888888888,
              "#fdca26"
             ],
             [
              1,
              "#f0f921"
             ]
            ],
            "type": "surface"
           }
          ],
          "table": [
           {
            "cells": {
             "fill": {
              "color": "#EBF0F8"
             },
             "line": {
              "color": "white"
             }
            },
            "header": {
             "fill": {
              "color": "#C8D4E3"
             },
             "line": {
              "color": "white"
             }
            },
            "type": "table"
           }
          ]
         },
         "layout": {
          "annotationdefaults": {
           "arrowcolor": "#2a3f5f",
           "arrowhead": 0,
           "arrowwidth": 1
          },
          "autotypenumbers": "strict",
          "coloraxis": {
           "colorbar": {
            "outlinewidth": 0,
            "ticks": ""
           }
          },
          "colorscale": {
           "diverging": [
            [
             0,
             "#8e0152"
            ],
            [
             0.1,
             "#c51b7d"
            ],
            [
             0.2,
             "#de77ae"
            ],
            [
             0.3,
             "#f1b6da"
            ],
            [
             0.4,
             "#fde0ef"
            ],
            [
             0.5,
             "#f7f7f7"
            ],
            [
             0.6,
             "#e6f5d0"
            ],
            [
             0.7,
             "#b8e186"
            ],
            [
             0.8,
             "#7fbc41"
            ],
            [
             0.9,
             "#4d9221"
            ],
            [
             1,
             "#276419"
            ]
           ],
           "sequential": [
            [
             0,
             "#0d0887"
            ],
            [
             0.1111111111111111,
             "#46039f"
            ],
            [
             0.2222222222222222,
             "#7201a8"
            ],
            [
             0.3333333333333333,
             "#9c179e"
            ],
            [
             0.4444444444444444,
             "#bd3786"
            ],
            [
             0.5555555555555556,
             "#d8576b"
            ],
            [
             0.6666666666666666,
             "#ed7953"
            ],
            [
             0.7777777777777778,
             "#fb9f3a"
            ],
            [
             0.8888888888888888,
             "#fdca26"
            ],
            [
             1,
             "#f0f921"
            ]
           ],
           "sequentialminus": [
            [
             0,
             "#0d0887"
            ],
            [
             0.1111111111111111,
             "#46039f"
            ],
            [
             0.2222222222222222,
             "#7201a8"
            ],
            [
             0.3333333333333333,
             "#9c179e"
            ],
            [
             0.4444444444444444,
             "#bd3786"
            ],
            [
             0.5555555555555556,
             "#d8576b"
            ],
            [
             0.6666666666666666,
             "#ed7953"
            ],
            [
             0.7777777777777778,
             "#fb9f3a"
            ],
            [
             0.8888888888888888,
             "#fdca26"
            ],
            [
             1,
             "#f0f921"
            ]
           ]
          },
          "colorway": [
           "#636efa",
           "#EF553B",
           "#00cc96",
           "#ab63fa",
           "#FFA15A",
           "#19d3f3",
           "#FF6692",
           "#B6E880",
           "#FF97FF",
           "#FECB52"
          ],
          "font": {
           "color": "#2a3f5f"
          },
          "geo": {
           "bgcolor": "white",
           "lakecolor": "white",
           "landcolor": "#E5ECF6",
           "showlakes": true,
           "showland": true,
           "subunitcolor": "white"
          },
          "hoverlabel": {
           "align": "left"
          },
          "hovermode": "closest",
          "mapbox": {
           "style": "light"
          },
          "paper_bgcolor": "white",
          "plot_bgcolor": "#E5ECF6",
          "polar": {
           "angularaxis": {
            "gridcolor": "white",
            "linecolor": "white",
            "ticks": ""
           },
           "bgcolor": "#E5ECF6",
           "radialaxis": {
            "gridcolor": "white",
            "linecolor": "white",
            "ticks": ""
           }
          },
          "scene": {
           "xaxis": {
            "backgroundcolor": "#E5ECF6",
            "gridcolor": "white",
            "gridwidth": 2,
            "linecolor": "white",
            "showbackground": true,
            "ticks": "",
            "zerolinecolor": "white"
           },
           "yaxis": {
            "backgroundcolor": "#E5ECF6",
            "gridcolor": "white",
            "gridwidth": 2,
            "linecolor": "white",
            "showbackground": true,
            "ticks": "",
            "zerolinecolor": "white"
           },
           "zaxis": {
            "backgroundcolor": "#E5ECF6",
            "gridcolor": "white",
            "gridwidth": 2,
            "linecolor": "white",
            "showbackground": true,
            "ticks": "",
            "zerolinecolor": "white"
           }
          },
          "shapedefaults": {
           "line": {
            "color": "#2a3f5f"
           }
          },
          "ternary": {
           "aaxis": {
            "gridcolor": "white",
            "linecolor": "white",
            "ticks": ""
           },
           "baxis": {
            "gridcolor": "white",
            "linecolor": "white",
            "ticks": ""
           },
           "bgcolor": "#E5ECF6",
           "caxis": {
            "gridcolor": "white",
            "linecolor": "white",
            "ticks": ""
           }
          },
          "title": {
           "x": 0.05
          },
          "xaxis": {
           "automargin": true,
           "gridcolor": "white",
           "linecolor": "white",
           "ticks": "",
           "title": {
            "standoff": 15
           },
           "zerolinecolor": "white",
           "zerolinewidth": 2
          },
          "yaxis": {
           "automargin": true,
           "gridcolor": "white",
           "linecolor": "white",
           "ticks": "",
           "title": {
            "standoff": 15
           },
           "zerolinecolor": "white",
           "zerolinewidth": 2
          }
         }
        },
        "title": {
         "text": "User Behavior Funnel"
        }
       }
      },
      "text/html": [
       "<div>                            <div id=\"37875a7f-c86f-4b86-8415-32df51390198\" class=\"plotly-graph-div\" style=\"height:525px; width:100%;\"></div>            <script type=\"text/javascript\">                require([\"plotly\"], function(Plotly) {                    window.PLOTLYENV=window.PLOTLYENV || {};                                    if (document.getElementById(\"37875a7f-c86f-4b86-8415-32df51390198\")) {                    Plotly.newPlot(                        \"37875a7f-c86f-4b86-8415-32df51390198\",                        [{\"text\":[\"88596886 (100.00%)\",\"8318654 (9.39%)\",\"1998944 (2.26%)\"],\"textinfo\":\"text+value\",\"x\":[88596886,8318654,1998944],\"y\":[\"PageView\",\"CartAndFav\",\"Bought\"],\"type\":\"funnel\"}],                        {\"template\":{\"data\":{\"histogram2dcontour\":[{\"type\":\"histogram2dcontour\",\"colorbar\":{\"outlinewidth\":0,\"ticks\":\"\"},\"colorscale\":[[0.0,\"#0d0887\"],[0.1111111111111111,\"#46039f\"],[0.2222222222222222,\"#7201a8\"],[0.3333333333333333,\"#9c179e\"],[0.4444444444444444,\"#bd3786\"],[0.5555555555555556,\"#d8576b\"],[0.6666666666666666,\"#ed7953\"],[0.7777777777777778,\"#fb9f3a\"],[0.8888888888888888,\"#fdca26\"],[1.0,\"#f0f921\"]]}],\"choropleth\":[{\"type\":\"choropleth\",\"colorbar\":{\"outlinewidth\":0,\"ticks\":\"\"}}],\"histogram2d\":[{\"type\":\"histogram2d\",\"colorbar\":{\"outlinewidth\":0,\"ticks\":\"\"},\"colorscale\":[[0.0,\"#0d0887\"],[0.1111111111111111,\"#46039f\"],[0.2222222222222222,\"#7201a8\"],[0.3333333333333333,\"#9c179e\"],[0.4444444444444444,\"#bd3786\"],[0.5555555555555556,\"#d8576b\"],[0.6666666666666666,\"#ed7953\"],[0.7777777777777778,\"#fb9f3a\"],[0.8888888888888888,\"#fdca26\"],[1.0,\"#f0f921\"]]}],\"heatmap\":[{\"type\":\"heatmap\",\"colorbar\":{\"outlinewidth\":0,\"ticks\":\"\"},\"colorscale\":[[0.0,\"#0d0887\"],[0.1111111111111111,\"#46039f\"],[0.2222222222222222,\"#7201a8\"],[0.3333333333333333,\"#9c179e\"],[0.4444444444444444,\"#bd3786\"],[0.5555555555555556,\"#d8576b\"],[0.6666666666666666,\"#ed7953\"],[0.7777777777777778,\"#fb9f3a\"],[0.8888888888888888,\"#fdca26\"],[1.0,\"#f0f921\"]]}],\"heatmapgl\":[{\"type\":\"heatmapgl\",\"colorbar\":{\"outlinewidth\":0,\"ticks\":\"\"},\"colorscale\":[[0.0,\"#0d0887\"],[0.1111111111111111,\"#46039f\"],[0.2222222222222222,\"#7201a8\"],[0.3333333333333333,\"#9c179e\"],[0.4444444444444444,\"#bd3786\"],[0.5555555555555556,\"#d8576b\"],[0.6666666666666666,\"#ed7953\"],[0.7777777777777778,\"#fb9f3a\"],[0.8888888888888888,\"#fdca26\"],[1.0,\"#f0f921\"]]}],\"contourcarpet\":[{\"type\":\"contourcarpet\",\"colorbar\":{\"outlinewidth\":0,\"ticks\":\"\"}}],\"contour\":[{\"type\":\"contour\",\"colorbar\":{\"outlinewidth\":0,\"ticks\":\"\"},\"colorscale\":[[0.0,\"#0d0887\"],[0.1111111111111111,\"#46039f\"],[0.2222222222222222,\"#7201a8\"],[0.3333333333333333,\"#9c179e\"],[0.4444444444444444,\"#bd3786\"],[0.5555555555555556,\"#d8576b\"],[0.6666666666666666,\"#ed7953\"],[0.7777777777777778,\"#fb9f3a\"],[0.8888888888888888,\"#fdca26\"],[1.0,\"#f0f921\"]]}],\"surface\":[{\"type\":\"surface\",\"colorbar\":{\"outlinewidth\":0,\"ticks\":\"\"},\"colorscale\":[[0.0,\"#0d0887\"],[0.1111111111111111,\"#46039f\"],[0.2222222222222222,\"#7201a8\"],[0.3333333333333333,\"#9c179e\"],[0.4444444444444444,\"#bd3786\"],[0.5555555555555556,\"#d8576b\"],[0.6666666666666666,\"#ed7953\"],[0.7777777777777778,\"#fb9f3a\"],[0.8888888888888888,\"#fdca26\"],[1.0,\"#f0f921\"]]}],\"mesh3d\":[{\"type\":\"mesh3d\",\"colorbar\":{\"outlinewidth\":0,\"ticks\":\"\"}}],\"scatter\":[{\"fillpattern\":{\"fillmode\":\"overlay\",\"size\":10,\"solidity\":0.2},\"type\":\"scatter\"}],\"parcoords\":[{\"type\":\"parcoords\",\"line\":{\"colorbar\":{\"outlinewidth\":0,\"ticks\":\"\"}}}],\"scatterpolargl\":[{\"type\":\"scatterpolargl\",\"marker\":{\"colorbar\":{\"outlinewidth\":0,\"ticks\":\"\"}}}],\"bar\":[{\"error_x\":{\"color\":\"#2a3f5f\"},\"error_y\":{\"color\":\"#2a3f5f\"},\"marker\":{\"line\":{\"color\":\"#E5ECF6\",\"width\":0.5},\"pattern\":{\"fillmode\":\"overlay\",\"size\":10,\"solidity\":0.2}},\"type\":\"bar\"}],\"scattergeo\":[{\"type\":\"scattergeo\",\"marker\":{\"colorbar\":{\"outlinewidth\":0,\"ticks\":\"\"}}}],\"scatterpolar\":[{\"type\":\"scatterpolar\",\"marker\":{\"colorbar\":{\"outlinewidth\":0,\"ticks\":\"\"}}}],\"histogram\":[{\"marker\":{\"pattern\":{\"fillmode\":\"overlay\",\"size\":10,\"solidity\":0.2}},\"type\":\"histogram\"}],\"scattergl\":[{\"type\":\"scattergl\",\"marker\":{\"colorbar\":{\"outlinewidth\":0,\"ticks\":\"\"}}}],\"scatter3d\":[{\"type\":\"scatter3d\",\"line\":{\"colorbar\":{\"outlinewidth\":0,\"ticks\":\"\"}},\"marker\":{\"colorbar\":{\"outlinewidth\":0,\"ticks\":\"\"}}}],\"scattermapbox\":[{\"type\":\"scattermapbox\",\"marker\":{\"colorbar\":{\"outlinewidth\":0,\"ticks\":\"\"}}}],\"scatterternary\":[{\"type\":\"scatterternary\",\"marker\":{\"colorbar\":{\"outlinewidth\":0,\"ticks\":\"\"}}}],\"scattercarpet\":[{\"type\":\"scattercarpet\",\"marker\":{\"colorbar\":{\"outlinewidth\":0,\"ticks\":\"\"}}}],\"carpet\":[{\"aaxis\":{\"endlinecolor\":\"#2a3f5f\",\"gridcolor\":\"white\",\"linecolor\":\"white\",\"minorgridcolor\":\"white\",\"startlinecolor\":\"#2a3f5f\"},\"baxis\":{\"endlinecolor\":\"#2a3f5f\",\"gridcolor\":\"white\",\"linecolor\":\"white\",\"minorgridcolor\":\"white\",\"startlinecolor\":\"#2a3f5f\"},\"type\":\"carpet\"}],\"table\":[{\"cells\":{\"fill\":{\"color\":\"#EBF0F8\"},\"line\":{\"color\":\"white\"}},\"header\":{\"fill\":{\"color\":\"#C8D4E3\"},\"line\":{\"color\":\"white\"}},\"type\":\"table\"}],\"barpolar\":[{\"marker\":{\"line\":{\"color\":\"#E5ECF6\",\"width\":0.5},\"pattern\":{\"fillmode\":\"overlay\",\"size\":10,\"solidity\":0.2}},\"type\":\"barpolar\"}],\"pie\":[{\"automargin\":true,\"type\":\"pie\"}]},\"layout\":{\"autotypenumbers\":\"strict\",\"colorway\":[\"#636efa\",\"#EF553B\",\"#00cc96\",\"#ab63fa\",\"#FFA15A\",\"#19d3f3\",\"#FF6692\",\"#B6E880\",\"#FF97FF\",\"#FECB52\"],\"font\":{\"color\":\"#2a3f5f\"},\"hovermode\":\"closest\",\"hoverlabel\":{\"align\":\"left\"},\"paper_bgcolor\":\"white\",\"plot_bgcolor\":\"#E5ECF6\",\"polar\":{\"bgcolor\":\"#E5ECF6\",\"angularaxis\":{\"gridcolor\":\"white\",\"linecolor\":\"white\",\"ticks\":\"\"},\"radialaxis\":{\"gridcolor\":\"white\",\"linecolor\":\"white\",\"ticks\":\"\"}},\"ternary\":{\"bgcolor\":\"#E5ECF6\",\"aaxis\":{\"gridcolor\":\"white\",\"linecolor\":\"white\",\"ticks\":\"\"},\"baxis\":{\"gridcolor\":\"white\",\"linecolor\":\"white\",\"ticks\":\"\"},\"caxis\":{\"gridcolor\":\"white\",\"linecolor\":\"white\",\"ticks\":\"\"}},\"coloraxis\":{\"colorbar\":{\"outlinewidth\":0,\"ticks\":\"\"}},\"colorscale\":{\"sequential\":[[0.0,\"#0d0887\"],[0.1111111111111111,\"#46039f\"],[0.2222222222222222,\"#7201a8\"],[0.3333333333333333,\"#9c179e\"],[0.4444444444444444,\"#bd3786\"],[0.5555555555555556,\"#d8576b\"],[0.6666666666666666,\"#ed7953\"],[0.7777777777777778,\"#fb9f3a\"],[0.8888888888888888,\"#fdca26\"],[1.0,\"#f0f921\"]],\"sequentialminus\":[[0.0,\"#0d0887\"],[0.1111111111111111,\"#46039f\"],[0.2222222222222222,\"#7201a8\"],[0.3333333333333333,\"#9c179e\"],[0.4444444444444444,\"#bd3786\"],[0.5555555555555556,\"#d8576b\"],[0.6666666666666666,\"#ed7953\"],[0.7777777777777778,\"#fb9f3a\"],[0.8888888888888888,\"#fdca26\"],[1.0,\"#f0f921\"]],\"diverging\":[[0,\"#8e0152\"],[0.1,\"#c51b7d\"],[0.2,\"#de77ae\"],[0.3,\"#f1b6da\"],[0.4,\"#fde0ef\"],[0.5,\"#f7f7f7\"],[0.6,\"#e6f5d0\"],[0.7,\"#b8e186\"],[0.8,\"#7fbc41\"],[0.9,\"#4d9221\"],[1,\"#276419\"]]},\"xaxis\":{\"gridcolor\":\"white\",\"linecolor\":\"white\",\"ticks\":\"\",\"title\":{\"standoff\":15},\"zerolinecolor\":\"white\",\"automargin\":true,\"zerolinewidth\":2},\"yaxis\":{\"gridcolor\":\"white\",\"linecolor\":\"white\",\"ticks\":\"\",\"title\":{\"standoff\":15},\"zerolinecolor\":\"white\",\"automargin\":true,\"zerolinewidth\":2},\"scene\":{\"xaxis\":{\"backgroundcolor\":\"#E5ECF6\",\"gridcolor\":\"white\",\"linecolor\":\"white\",\"showbackground\":true,\"ticks\":\"\",\"zerolinecolor\":\"white\",\"gridwidth\":2},\"yaxis\":{\"backgroundcolor\":\"#E5ECF6\",\"gridcolor\":\"white\",\"linecolor\":\"white\",\"showbackground\":true,\"ticks\":\"\",\"zerolinecolor\":\"white\",\"gridwidth\":2},\"zaxis\":{\"backgroundcolor\":\"#E5ECF6\",\"gridcolor\":\"white\",\"linecolor\":\"white\",\"showbackground\":true,\"ticks\":\"\",\"zerolinecolor\":\"white\",\"gridwidth\":2}},\"shapedefaults\":{\"line\":{\"color\":\"#2a3f5f\"}},\"annotationdefaults\":{\"arrowcolor\":\"#2a3f5f\",\"arrowhead\":0,\"arrowwidth\":1},\"geo\":{\"bgcolor\":\"white\",\"landcolor\":\"#E5ECF6\",\"subunitcolor\":\"white\",\"showland\":true,\"showlakes\":true,\"lakecolor\":\"white\"},\"title\":{\"x\":0.05},\"mapbox\":{\"style\":\"light\"}}},\"title\":{\"text\":\"User Behavior Funnel\"},\"funnelmode\":\"stack\"},                        {\"responsive\": true}                    ).then(function(){\n",
       "                            \n",
       "var gd = document.getElementById('37875a7f-c86f-4b86-8415-32df51390198');\n",
       "var x = new MutationObserver(function (mutations, observer) {{\n",
       "        var display = window.getComputedStyle(gd).display;\n",
       "        if (!display || display === 'none') {{\n",
       "            console.log([gd, 'removed!']);\n",
       "            Plotly.purge(gd);\n",
       "            observer.disconnect();\n",
       "        }}\n",
       "}});\n",
       "\n",
       "// Listen for the removal of the full notebook cells\n",
       "var notebookContainer = gd.closest('#notebook-container');\n",
       "if (notebookContainer) {{\n",
       "    x.observe(notebookContainer, {childList: true});\n",
       "}}\n",
       "\n",
       "// Listen for the clearing of the current output cell\n",
       "var outputEl = gd.closest('.output');\n",
       "if (outputEl) {{\n",
       "    x.observe(outputEl, {childList: true});\n",
       "}}\n",
       "\n",
       "                        })                };                });            </script>        </div>"
      ]
     },
     "metadata": {},
     "output_type": "display_data"
    }
   ],
   "source": [
    "import plotly.graph_objects as go\n",
    "\n",
    "# Create the funnel chart\n",
    "fig = go.Figure(go.Funnel(\n",
    "    y=funnel_stages,\n",
    "    x=funnel_values,\n",
    "    text=[f\"{val} ({perc:.2f}%)\" for val, perc in zip(funnel_values, funnel_percentages)],\n",
    "    textinfo=\"text+value\"\n",
    "))\n",
    "\n",
    "# Customize layout, if desired\n",
    "fig.update_layout(\n",
    "    title=\"User Behavior Funnel\",\n",
    "    funnelmode=\"stack\",  # This stacks the funnel sections on top of each other\n",
    ")\n",
    "\n",
    "# Show the figure\n",
    "fig.show()"
   ]
  },
  {
   "cell_type": "markdown",
   "id": "ffaab98c",
   "metadata": {},
   "source": [
    "###### 6. Repurchase Rate"
   ]
  },
  {
   "cell_type": "code",
   "execution_count": 103,
   "id": "aa54e66c",
   "metadata": {},
   "outputs": [],
   "source": [
    "temp2 = temp[temp[\"behavior\"]==\"buy\"]"
   ]
  },
  {
   "cell_type": "code",
   "execution_count": 109,
   "id": "85383132",
   "metadata": {},
   "outputs": [
    {
     "name": "stdout",
     "output_type": "stream",
     "text": [
      "There are 670370 users in total and 441196 repurchase users\n",
      "The Repurchase Rate is 0.6581 or 65.81%\n"
     ]
    }
   ],
   "source": [
    "user_bought_counts = temp2.groupby('userID').size()\n",
    "repurchase_users = user_bought_counts[user_bought_counts > 1]\n",
    "repurchase_rate = len(repurchase_users) / len(user_bought_counts)\n",
    "\n",
    "print(f\"There are {len(user_bought_counts)} users in total and {len(repurchase_users)} repurchase users\")\n",
    "print(f\"The Repurchase Rate is {repurchase_rate:.4f} or {repurchase_rate * 100:.2f}%\")"
   ]
  },
  {
   "cell_type": "markdown",
   "id": "35228644",
   "metadata": {},
   "source": [
    "###### 7. RFM model\n",
    "######  ### Due to the lack of M records, only R and F are considered"
   ]
  },
  {
   "cell_type": "code",
   "execution_count": 117,
   "id": "01b98472",
   "metadata": {},
   "outputs": [
    {
     "name": "stdout",
     "output_type": "stream",
     "text": [
      "Average purchase frequency per user: 2.9818518131777974\n",
      "Median purchase frequency per user: 2.0\n"
     ]
    }
   ],
   "source": [
    "purchase_counts = temp2.groupby('userID').size()\n",
    "\n",
    "# Calculate the average purchase frequency per user\n",
    "average_purchase_frequency = purchase_counts.mean()\n",
    "\n",
    "# Calculate the median purchase frequency per user\n",
    "median_purchase_frequency = purchase_counts.median()\n",
    "\n",
    "print(f\"Average purchase frequency per user: {average_purchase_frequency}\")\n",
    "print(f\"Median purchase frequency per user: {median_purchase_frequency}\")"
   ]
  },
  {
   "cell_type": "code",
   "execution_count": 176,
   "id": "a5bb91a7",
   "metadata": {},
   "outputs": [
    {
     "name": "stderr",
     "output_type": "stream",
     "text": [
      "C:\\Users\\Yummy\\AppData\\Local\\Temp\\ipykernel_8724\\42196940.py:3: SettingWithCopyWarning:\n",
      "\n",
      "\n",
      "A value is trying to be set on a copy of a slice from a DataFrame.\n",
      "Try using .loc[row_indexer,col_indexer] = value instead\n",
      "\n",
      "See the caveats in the documentation: https://pandas.pydata.org/pandas-docs/stable/user_guide/indexing.html#returning-a-view-versus-a-copy\n",
      "\n"
     ]
    }
   ],
   "source": [
    "from datetime import datetime\n",
    "\n",
    "temp2['date'] = pd.to_datetime(temp2['date'])\n",
    "current_date = temp2['date'].max() + pd.Timedelta(days=1)\n",
    "\n",
    "# R: Recency\n",
    "recency_df = temp2.groupby('userID')['date'].max().reset_index()\n",
    "recency_df['Recency'] = (current_date - recency_df['date']).dt.days\n",
    "\n",
    "# F: Frequency\n",
    "frequency_df = temp2[temp2['behavior'] == 'buy'].groupby('userID')['date'].count().reset_index()\n",
    "frequency_df.rename(columns={'date': 'Frequency'}, inplace=True)"
   ]
  },
  {
   "cell_type": "code",
   "execution_count": 177,
   "id": "70b2a407",
   "metadata": {},
   "outputs": [
    {
     "data": {
      "text/html": [
       "<div>\n",
       "<style scoped>\n",
       "    .dataframe tbody tr th:only-of-type {\n",
       "        vertical-align: middle;\n",
       "    }\n",
       "\n",
       "    .dataframe tbody tr th {\n",
       "        vertical-align: top;\n",
       "    }\n",
       "\n",
       "    .dataframe thead th {\n",
       "        text-align: right;\n",
       "    }\n",
       "</style>\n",
       "<table border=\"1\" class=\"dataframe\">\n",
       "  <thead>\n",
       "    <tr style=\"text-align: right;\">\n",
       "      <th></th>\n",
       "      <th>userID</th>\n",
       "      <th>date</th>\n",
       "      <th>Recency</th>\n",
       "    </tr>\n",
       "  </thead>\n",
       "  <tbody>\n",
       "    <tr>\n",
       "      <th>0</th>\n",
       "      <td>2</td>\n",
       "      <td>2017-12-02</td>\n",
       "      <td>2</td>\n",
       "    </tr>\n",
       "    <tr>\n",
       "      <th>1</th>\n",
       "      <td>4</td>\n",
       "      <td>2017-11-30</td>\n",
       "      <td>4</td>\n",
       "    </tr>\n",
       "    <tr>\n",
       "      <th>2</th>\n",
       "      <td>11</td>\n",
       "      <td>2017-11-25</td>\n",
       "      <td>9</td>\n",
       "    </tr>\n",
       "    <tr>\n",
       "      <th>3</th>\n",
       "      <td>16</td>\n",
       "      <td>2017-12-01</td>\n",
       "      <td>3</td>\n",
       "    </tr>\n",
       "    <tr>\n",
       "      <th>4</th>\n",
       "      <td>17</td>\n",
       "      <td>2017-12-01</td>\n",
       "      <td>3</td>\n",
       "    </tr>\n",
       "    <tr>\n",
       "      <th>...</th>\n",
       "      <td>...</td>\n",
       "      <td>...</td>\n",
       "      <td>...</td>\n",
       "    </tr>\n",
       "    <tr>\n",
       "      <th>670365</th>\n",
       "      <td>1017999</td>\n",
       "      <td>2017-12-02</td>\n",
       "      <td>2</td>\n",
       "    </tr>\n",
       "    <tr>\n",
       "      <th>670366</th>\n",
       "      <td>1018002</td>\n",
       "      <td>2017-12-03</td>\n",
       "      <td>1</td>\n",
       "    </tr>\n",
       "    <tr>\n",
       "      <th>670367</th>\n",
       "      <td>1018009</td>\n",
       "      <td>2017-12-01</td>\n",
       "      <td>3</td>\n",
       "    </tr>\n",
       "    <tr>\n",
       "      <th>670368</th>\n",
       "      <td>1018010</td>\n",
       "      <td>2017-12-02</td>\n",
       "      <td>2</td>\n",
       "    </tr>\n",
       "    <tr>\n",
       "      <th>670369</th>\n",
       "      <td>1018011</td>\n",
       "      <td>2017-11-26</td>\n",
       "      <td>8</td>\n",
       "    </tr>\n",
       "  </tbody>\n",
       "</table>\n",
       "<p>670370 rows × 3 columns</p>\n",
       "</div>"
      ],
      "text/plain": [
       "         userID       date  Recency\n",
       "0             2 2017-12-02        2\n",
       "1             4 2017-11-30        4\n",
       "2            11 2017-11-25        9\n",
       "3            16 2017-12-01        3\n",
       "4            17 2017-12-01        3\n",
       "...         ...        ...      ...\n",
       "670365  1017999 2017-12-02        2\n",
       "670366  1018002 2017-12-03        1\n",
       "670367  1018009 2017-12-01        3\n",
       "670368  1018010 2017-12-02        2\n",
       "670369  1018011 2017-11-26        8\n",
       "\n",
       "[670370 rows x 3 columns]"
      ]
     },
     "execution_count": 177,
     "metadata": {},
     "output_type": "execute_result"
    }
   ],
   "source": [
    "recency_df"
   ]
  },
  {
   "cell_type": "code",
   "execution_count": 178,
   "id": "6b517cbd",
   "metadata": {},
   "outputs": [
    {
     "data": {
      "text/html": [
       "<div>\n",
       "<style scoped>\n",
       "    .dataframe tbody tr th:only-of-type {\n",
       "        vertical-align: middle;\n",
       "    }\n",
       "\n",
       "    .dataframe tbody tr th {\n",
       "        vertical-align: top;\n",
       "    }\n",
       "\n",
       "    .dataframe thead th {\n",
       "        text-align: right;\n",
       "    }\n",
       "</style>\n",
       "<table border=\"1\" class=\"dataframe\">\n",
       "  <thead>\n",
       "    <tr style=\"text-align: right;\">\n",
       "      <th></th>\n",
       "      <th>userID</th>\n",
       "      <th>Frequency</th>\n",
       "    </tr>\n",
       "  </thead>\n",
       "  <tbody>\n",
       "    <tr>\n",
       "      <th>0</th>\n",
       "      <td>2</td>\n",
       "      <td>7</td>\n",
       "    </tr>\n",
       "    <tr>\n",
       "      <th>1</th>\n",
       "      <td>4</td>\n",
       "      <td>4</td>\n",
       "    </tr>\n",
       "    <tr>\n",
       "      <th>2</th>\n",
       "      <td>11</td>\n",
       "      <td>1</td>\n",
       "    </tr>\n",
       "    <tr>\n",
       "      <th>3</th>\n",
       "      <td>16</td>\n",
       "      <td>2</td>\n",
       "    </tr>\n",
       "    <tr>\n",
       "      <th>4</th>\n",
       "      <td>17</td>\n",
       "      <td>1</td>\n",
       "    </tr>\n",
       "    <tr>\n",
       "      <th>...</th>\n",
       "      <td>...</td>\n",
       "      <td>...</td>\n",
       "    </tr>\n",
       "    <tr>\n",
       "      <th>670365</th>\n",
       "      <td>1017999</td>\n",
       "      <td>8</td>\n",
       "    </tr>\n",
       "    <tr>\n",
       "      <th>670366</th>\n",
       "      <td>1018002</td>\n",
       "      <td>2</td>\n",
       "    </tr>\n",
       "    <tr>\n",
       "      <th>670367</th>\n",
       "      <td>1018009</td>\n",
       "      <td>2</td>\n",
       "    </tr>\n",
       "    <tr>\n",
       "      <th>670368</th>\n",
       "      <td>1018010</td>\n",
       "      <td>6</td>\n",
       "    </tr>\n",
       "    <tr>\n",
       "      <th>670369</th>\n",
       "      <td>1018011</td>\n",
       "      <td>1</td>\n",
       "    </tr>\n",
       "  </tbody>\n",
       "</table>\n",
       "<p>670370 rows × 2 columns</p>\n",
       "</div>"
      ],
      "text/plain": [
       "         userID  Frequency\n",
       "0             2          7\n",
       "1             4          4\n",
       "2            11          1\n",
       "3            16          2\n",
       "4            17          1\n",
       "...         ...        ...\n",
       "670365  1017999          8\n",
       "670366  1018002          2\n",
       "670367  1018009          2\n",
       "670368  1018010          6\n",
       "670369  1018011          1\n",
       "\n",
       "[670370 rows x 2 columns]"
      ]
     },
     "execution_count": 178,
     "metadata": {},
     "output_type": "execute_result"
    }
   ],
   "source": [
    "frequency_df"
   ]
  },
  {
   "cell_type": "code",
   "execution_count": 179,
   "id": "15c33e4b",
   "metadata": {},
   "outputs": [],
   "source": [
    "rf_df = pd.merge(recency_df[['userID', 'Recency']], frequency_df, on='userID', how='left')\n",
    "\n",
    "###\n",
    "rf_df['Frequency'].fillna(0, inplace=True)"
   ]
  },
  {
   "cell_type": "code",
   "execution_count": 201,
   "id": "f6d14c5c",
   "metadata": {},
   "outputs": [
    {
     "name": "stdout",
     "output_type": "stream",
     "text": [
      "4.152791741873891\n",
      "1.7270358160418873\n",
      "         userID  R_score  F_score        User_Segment\n",
      "0             2        5        4      Best Customers\n",
      "1             4        4        2  Potential Loyalist\n",
      "2            11        1        1      About to Sleep\n",
      "3            16        4        1      About to Sleep\n",
      "4            17        4        1      About to Sleep\n",
      "...         ...      ...      ...                 ...\n",
      "670365  1017999        5        4      Best Customers\n",
      "670366  1018002        6        1   Needing Attention\n",
      "670367  1018009        4        1      About to Sleep\n",
      "670368  1018010        5        3      Best Customers\n",
      "670369  1018011        2        1      About to Sleep\n",
      "\n",
      "[670370 rows x 4 columns]\n"
     ]
    }
   ],
   "source": [
    "def r_score(x):\n",
    "    if x <= 1:\n",
    "        return 6\n",
    "    elif x<= 2:\n",
    "        return 5\n",
    "    elif x <= 4:\n",
    "        return 4\n",
    "    elif x <= 6:\n",
    "        return 3\n",
    "    elif x <= 8:\n",
    "        return 2\n",
    "    else:\n",
    "        return 1\n",
    "\n",
    "def f_score(x):\n",
    "    if x <= 2:\n",
    "        return 1\n",
    "    elif x <= 4:\n",
    "        return 2\n",
    "    elif x <= 6:\n",
    "        return 3\n",
    "    elif x <= 8:\n",
    "        return 4\n",
    "    else:\n",
    "        return 5\n",
    "    \n",
    "\n",
    "rf_df['R_score'] = rf_df['Recency'].apply(r_score)\n",
    "rf_df['F_score'] = rf_df['Frequency'].apply(f_score)\n",
    "\n",
    "r_score_avg = rf_df['R_score'].mean()\n",
    "f_score_avg = rf_df['F_score'].mean()\n",
    "\n",
    "rf_df['User_Segment'] = rf_df.apply(lambda x: 'Best Customers' if x['R_score'] > r_score_avg and x['F_score'] > f_score_avg\n",
    "                                     else 'Potential Loyalist' if x['R_score'] <= r_score_avg and x['F_score'] > f_score_avg\n",
    "                                     else 'Needing Attention' if x['R_score'] > r_score_avg and x['F_score'] <= f_score_avg\n",
    "                                     else 'About to Sleep', axis=1)\n",
    "\n",
    "print(r_score_avg)\n",
    "print(f_score_avg)\n",
    "\n",
    "print(rf_df[['userID', 'R_score', 'F_score', 'User_Segment']])\n"
   ]
  },
  {
   "cell_type": "code",
   "execution_count": 202,
   "id": "bf80195e",
   "metadata": {},
   "outputs": [
    {
     "data": {
      "image/png": "[encoded data removed]",
      "text/plain": [
       "<Figure size 1000x800 with 1 Axes>"
      ]
     },
     "metadata": {},
     "output_type": "display_data"
    }
   ],
   "source": [
    "# 假设rf_df是你已经分好类的DataFrame\n",
    "user_segments_counts = rf_df['User_Segment'].value_counts()\n",
    "\n",
    "# pie chart\n",
    "plt.figure(figsize=(10, 8))\n",
    "plt.pie(user_segments_counts, labels=user_segments_counts.index, autopct='%1.1f%%', startangle=140)\n",
    "plt.title('RFM model')\n",
    "plt.show()\n"
   ]
  },
  {
   "cell_type": "code",
   "execution_count": 203,
   "id": "a2fbfbbf",
   "metadata": {},
   "outputs": [
    {
     "data": {
      "text/html": [
       "<div>\n",
       "<style scoped>\n",
       "    .dataframe tbody tr th:only-of-type {\n",
       "        vertical-align: middle;\n",
       "    }\n",
       "\n",
       "    .dataframe tbody tr th {\n",
       "        vertical-align: top;\n",
       "    }\n",
       "\n",
       "    .dataframe thead th {\n",
       "        text-align: right;\n",
       "    }\n",
       "</style>\n",
       "<table border=\"1\" class=\"dataframe\">\n",
       "  <thead>\n",
       "    <tr style=\"text-align: right;\">\n",
       "      <th></th>\n",
       "      <th>userID</th>\n",
       "      <th>Recency</th>\n",
       "      <th>Frequency</th>\n",
       "      <th>R_score</th>\n",
       "      <th>F_score</th>\n",
       "      <th>User_Segment</th>\n",
       "    </tr>\n",
       "  </thead>\n",
       "  <tbody>\n",
       "    <tr>\n",
       "      <th>0</th>\n",
       "      <td>2</td>\n",
       "      <td>2</td>\n",
       "      <td>7</td>\n",
       "      <td>5</td>\n",
       "      <td>4</td>\n",
       "      <td>Best Customers</td>\n",
       "    </tr>\n",
       "    <tr>\n",
       "      <th>1</th>\n",
       "      <td>4</td>\n",
       "      <td>4</td>\n",
       "      <td>4</td>\n",
       "      <td>4</td>\n",
       "      <td>2</td>\n",
       "      <td>Potential Loyalist</td>\n",
       "    </tr>\n",
       "    <tr>\n",
       "      <th>2</th>\n",
       "      <td>11</td>\n",
       "      <td>9</td>\n",
       "      <td>1</td>\n",
       "      <td>1</td>\n",
       "      <td>1</td>\n",
       "      <td>About to Sleep</td>\n",
       "    </tr>\n",
       "    <tr>\n",
       "      <th>3</th>\n",
       "      <td>16</td>\n",
       "      <td>3</td>\n",
       "      <td>2</td>\n",
       "      <td>4</td>\n",
       "      <td>1</td>\n",
       "      <td>About to Sleep</td>\n",
       "    </tr>\n",
       "    <tr>\n",
       "      <th>4</th>\n",
       "      <td>17</td>\n",
       "      <td>3</td>\n",
       "      <td>1</td>\n",
       "      <td>4</td>\n",
       "      <td>1</td>\n",
       "      <td>About to Sleep</td>\n",
       "    </tr>\n",
       "    <tr>\n",
       "      <th>...</th>\n",
       "      <td>...</td>\n",
       "      <td>...</td>\n",
       "      <td>...</td>\n",
       "      <td>...</td>\n",
       "      <td>...</td>\n",
       "      <td>...</td>\n",
       "    </tr>\n",
       "    <tr>\n",
       "      <th>670365</th>\n",
       "      <td>1017999</td>\n",
       "      <td>2</td>\n",
       "      <td>8</td>\n",
       "      <td>5</td>\n",
       "      <td>4</td>\n",
       "      <td>Best Customers</td>\n",
       "    </tr>\n",
       "    <tr>\n",
       "      <th>670366</th>\n",
       "      <td>1018002</td>\n",
       "      <td>1</td>\n",
       "      <td>2</td>\n",
       "      <td>6</td>\n",
       "      <td>1</td>\n",
       "      <td>Needing Attention</td>\n",
       "    </tr>\n",
       "    <tr>\n",
       "      <th>670367</th>\n",
       "      <td>1018009</td>\n",
       "      <td>3</td>\n",
       "      <td>2</td>\n",
       "      <td>4</td>\n",
       "      <td>1</td>\n",
       "      <td>About to Sleep</td>\n",
       "    </tr>\n",
       "    <tr>\n",
       "      <th>670368</th>\n",
       "      <td>1018010</td>\n",
       "      <td>2</td>\n",
       "      <td>6</td>\n",
       "      <td>5</td>\n",
       "      <td>3</td>\n",
       "      <td>Best Customers</td>\n",
       "    </tr>\n",
       "    <tr>\n",
       "      <th>670369</th>\n",
       "      <td>1018011</td>\n",
       "      <td>8</td>\n",
       "      <td>1</td>\n",
       "      <td>2</td>\n",
       "      <td>1</td>\n",
       "      <td>About to Sleep</td>\n",
       "    </tr>\n",
       "  </tbody>\n",
       "</table>\n",
       "<p>670370 rows × 6 columns</p>\n",
       "</div>"
      ],
      "text/plain": [
       "         userID  Recency  Frequency  R_score  F_score        User_Segment\n",
       "0             2        2          7        5        4      Best Customers\n",
       "1             4        4          4        4        2  Potential Loyalist\n",
       "2            11        9          1        1        1      About to Sleep\n",
       "3            16        3          2        4        1      About to Sleep\n",
       "4            17        3          1        4        1      About to Sleep\n",
       "...         ...      ...        ...      ...      ...                 ...\n",
       "670365  1017999        2          8        5        4      Best Customers\n",
       "670366  1018002        1          2        6        1   Needing Attention\n",
       "670367  1018009        3          2        4        1      About to Sleep\n",
       "670368  1018010        2          6        5        3      Best Customers\n",
       "670369  1018011        8          1        2        1      About to Sleep\n",
       "\n",
       "[670370 rows x 6 columns]"
      ]
     },
     "execution_count": 203,
     "metadata": {},
     "output_type": "execute_result"
    }
   ],
   "source": [
    "rf_df"
   ]
  },
  {
   "cell_type": "markdown",
   "id": "2d351937",
   "metadata": {},
   "source": [
    "###### 8. Average Order Value (???)\n",
    "###### ### it was asked for users/items average value, But I feel that distributing based on time is more meaningful."
   ]
  },
  {
   "cell_type": "code",
   "execution_count": 204,
   "id": "c8316ed9",
   "metadata": {},
   "outputs": [],
   "source": [
    "total_pv = temp[temp['behavior'] == 'pv'].shape[0]\n",
    "total_buy = temp2.shape[0]\n",
    "total_users = temp['userID'].nunique()"
   ]
  },
  {
   "cell_type": "code",
   "execution_count": 208,
   "id": "09130ae7",
   "metadata": {},
   "outputs": [
    {
     "name": "stdout",
     "output_type": "stream",
     "text": [
      "total count of  page views count is: 88596886\n",
      "total count of users is: 987984\n",
      "total count of purchases is: 1998944\n",
      "the average page views per user is: 89.6744\n",
      "the average purchases per user is: 2.0233\n"
     ]
    }
   ],
   "source": [
    "print(f\"total count of  page views count is: {total_pv}\")\n",
    "print(f\"total count of users is: {total_users}\")\n",
    "print(f\"total count of purchases is: {total_buy}\")\n",
    "print(f\"the average page views per user is: {round(total_pv / total_users,4)}\")\n",
    "print(f\"the average purchases per user is: {round(total_buy / total_users,4)}\")"
   ]
  },
  {
   "cell_type": "code",
   "execution_count": 209,
   "id": "6ac96ce0",
   "metadata": {},
   "outputs": [],
   "source": [
    "daily_pv = temp[temp['behavior'] == 'pv'].groupby('date')['userID'].count().reset_index(name='total_pv_per_day')\n",
    "daily_buy = temp[temp['behavior'] == 'buy'].groupby('date')['userID'].count().reset_index(name='total_buy_per_day')\n",
    "daily_users = temp.groupby('date')['userID'].nunique().reset_index(name='total_users_per_day')\n"
   ]
  },
  {
   "cell_type": "code",
   "execution_count": 210,
   "id": "6df0543f",
   "metadata": {},
   "outputs": [],
   "source": [
    "daily_data = pd.merge(daily_pv, daily_buy, on='date')\n",
    "daily_data = pd.merge(daily_data, daily_users, on='date')\n"
   ]
  },
  {
   "cell_type": "code",
   "execution_count": 211,
   "id": "47642bfb",
   "metadata": {},
   "outputs": [],
   "source": [
    "daily_data['average_page_views_per_user_per_day'] = daily_data['total_pv_per_day'] / daily_data['total_users_per_day']\n",
    "daily_data['average_purchases_per_user_per_day'] = daily_data['total_buy_per_day'] / daily_data['total_users_per_day']\n"
   ]
  },
  {
   "cell_type": "code",
   "execution_count": 212,
   "id": "29020d2d",
   "metadata": {},
   "outputs": [],
   "source": [
    "daily_data = daily_data[['date', 'total_buy_per_day', 'total_users_per_day', 'average_page_views_per_user_per_day', 'average_purchases_per_user_per_day']]\n"
   ]
  },
  {
   "cell_type": "code",
   "execution_count": 213,
   "id": "843a455b",
   "metadata": {},
   "outputs": [
    {
     "data": {
      "text/html": [
       "<div>\n",
       "<style scoped>\n",
       "    .dataframe tbody tr th:only-of-type {\n",
       "        vertical-align: middle;\n",
       "    }\n",
       "\n",
       "    .dataframe tbody tr th {\n",
       "        vertical-align: top;\n",
       "    }\n",
       "\n",
       "    .dataframe thead th {\n",
       "        text-align: right;\n",
       "    }\n",
       "</style>\n",
       "<table border=\"1\" class=\"dataframe\">\n",
       "  <thead>\n",
       "    <tr style=\"text-align: right;\">\n",
       "      <th></th>\n",
       "      <th>date</th>\n",
       "      <th>total_buy_per_day</th>\n",
       "      <th>total_users_per_day</th>\n",
       "      <th>average_page_views_per_user_per_day</th>\n",
       "      <th>average_purchases_per_user_per_day</th>\n",
       "    </tr>\n",
       "  </thead>\n",
       "  <tbody>\n",
       "    <tr>\n",
       "      <th>0</th>\n",
       "      <td>2017-11-25</td>\n",
       "      <td>201297</td>\n",
       "      <td>705571</td>\n",
       "      <td>13.372503</td>\n",
       "      <td>0.285297</td>\n",
       "    </tr>\n",
       "    <tr>\n",
       "      <th>1</th>\n",
       "      <td>2017-11-26</td>\n",
       "      <td>214308</td>\n",
       "      <td>713522</td>\n",
       "      <td>13.280024</td>\n",
       "      <td>0.300352</td>\n",
       "    </tr>\n",
       "    <tr>\n",
       "      <th>2</th>\n",
       "      <td>2017-11-27</td>\n",
       "      <td>218401</td>\n",
       "      <td>709207</td>\n",
       "      <td>12.642894</td>\n",
       "      <td>0.307951</td>\n",
       "    </tr>\n",
       "    <tr>\n",
       "      <th>3</th>\n",
       "      <td>2017-11-28</td>\n",
       "      <td>211754</td>\n",
       "      <td>708339</td>\n",
       "      <td>12.492878</td>\n",
       "      <td>0.298944</td>\n",
       "    </tr>\n",
       "    <tr>\n",
       "      <th>4</th>\n",
       "      <td>2017-11-29</td>\n",
       "      <td>223077</td>\n",
       "      <td>719356</td>\n",
       "      <td>12.847113</td>\n",
       "      <td>0.310107</td>\n",
       "    </tr>\n",
       "    <tr>\n",
       "      <th>5</th>\n",
       "      <td>2017-11-30</td>\n",
       "      <td>222235</td>\n",
       "      <td>730809</td>\n",
       "      <td>12.919928</td>\n",
       "      <td>0.304095</td>\n",
       "    </tr>\n",
       "    <tr>\n",
       "      <th>6</th>\n",
       "      <td>2017-12-01</td>\n",
       "      <td>212849</td>\n",
       "      <td>753166</td>\n",
       "      <td>13.280318</td>\n",
       "      <td>0.282606</td>\n",
       "    </tr>\n",
       "    <tr>\n",
       "      <th>7</th>\n",
       "      <td>2017-12-02</td>\n",
       "      <td>259550</td>\n",
       "      <td>941709</td>\n",
       "      <td>13.247409</td>\n",
       "      <td>0.275616</td>\n",
       "    </tr>\n",
       "    <tr>\n",
       "      <th>8</th>\n",
       "      <td>2017-12-03</td>\n",
       "      <td>235473</td>\n",
       "      <td>917531</td>\n",
       "      <td>11.671855</td>\n",
       "      <td>0.256638</td>\n",
       "    </tr>\n",
       "  </tbody>\n",
       "</table>\n",
       "</div>"
      ],
      "text/plain": [
       "         date  total_buy_per_day  total_users_per_day  \\\n",
       "0  2017-11-25             201297               705571   \n",
       "1  2017-11-26             214308               713522   \n",
       "2  2017-11-27             218401               709207   \n",
       "3  2017-11-28             211754               708339   \n",
       "4  2017-11-29             223077               719356   \n",
       "5  2017-11-30             222235               730809   \n",
       "6  2017-12-01             212849               753166   \n",
       "7  2017-12-02             259550               941709   \n",
       "8  2017-12-03             235473               917531   \n",
       "\n",
       "   average_page_views_per_user_per_day  average_purchases_per_user_per_day  \n",
       "0                            13.372503                            0.285297  \n",
       "1                            13.280024                            0.300352  \n",
       "2                            12.642894                            0.307951  \n",
       "3                            12.492878                            0.298944  \n",
       "4                            12.847113                            0.310107  \n",
       "5                            12.919928                            0.304095  \n",
       "6                            13.280318                            0.282606  \n",
       "7                            13.247409                            0.275616  \n",
       "8                            11.671855                            0.256638  "
      ]
     },
     "execution_count": 213,
     "metadata": {},
     "output_type": "execute_result"
    }
   ],
   "source": [
    "daily_data"
   ]
  },
  {
   "cell_type": "code",
   "execution_count": 214,
   "id": "e79885fa",
   "metadata": {},
   "outputs": [
    {
     "data": {
      "image/png": "[encoded data removed]",
      "text/plain": [
       "<Figure size 1400x1000 with 4 Axes>"
      ]
     },
     "metadata": {},
     "output_type": "display_data"
    }
   ],
   "source": [
    "plt.figure(figsize=(14, 10))\n",
    "\n",
    "plt.subplot(2, 2, 1)  \n",
    "plt.plot(daily_data['date'], daily_data['total_buy_per_day'], marker='o', color='blue', label='Total Purchases per Day')\n",
    "plt.xticks(rotation=45)  \n",
    "plt.title('Total Purchases per Day')\n",
    "plt.xlabel('Date')\n",
    "plt.ylabel('Total Purchases')\n",
    "plt.legend()\n",
    "\n",
    "plt.subplot(2, 2, 2)  \n",
    "plt.plot(daily_data['date'], daily_data['total_users_per_day'], marker='o', color='green', label='Total Users per Day')\n",
    "plt.xticks(rotation=45)\n",
    "plt.title('Total Users per Day')\n",
    "plt.xlabel('Date')\n",
    "plt.ylabel('Total Users')\n",
    "plt.legend()\n",
    "\n",
    "plt.subplot(2, 2, 3)  \n",
    "plt.plot(daily_data['date'], daily_data['average_page_views_per_user_per_day'], marker='o', color='red', label='Average Page Views per User per Day')\n",
    "plt.xticks(rotation=45)\n",
    "plt.title('Average Page Views per User per Day')\n",
    "plt.xlabel('Date')\n",
    "plt.ylabel('Page Views')\n",
    "plt.legend()\n",
    "\n",
    "plt.subplot(2, 2, 4)  \n",
    "plt.plot(daily_data['date'], daily_data['average_purchases_per_user_per_day'], marker='o', color='purple', label='Average Purchases per User per Day')\n",
    "plt.xticks(rotation=45)\n",
    "plt.title('Average Purchases per User per Day')\n",
    "plt.xlabel('Date')\n",
    "plt.ylabel('Purchases')\n",
    "plt.legend()\n",
    "\n",
    "plt.tight_layout()\n",
    "plt.show()\n"
   ]
  }
 ],
 "metadata": {
  "kernelspec": {
   "display_name": "Python 3 (ipykernel)",
   "language": "python",
   "name": "python3"
  },
  "language_info": {
   "codemirror_mode": {
    "name": "ipython",
    "version": 3
   },
   "file_extension": ".py",
   "mimetype": "text/x-python",
   "name": "python",
   "nbconvert_exporter": "python",
   "pygments_lexer": "ipython3",
   "version": "3.9.13"
  }
 },
 "nbformat": 4,
 "nbformat_minor": 5
}
