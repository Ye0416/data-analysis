{
 "cells": [
  {
   "cell_type": "markdown",
   "metadata": {},
   "source": [
    "### This practise is based on two datasets:\n",
    "\n",
    "## International Airlines - Traffic by city pairs (city_pairs.csv) \n",
    "### This dataset contains information about international flights to and from Australia in monthly intervals from January 1985 until September 2022. The data is provided by the Australian Government and covers passenger, freight, and mail carried between city pairs connected by single flight number services. \n",
    "\n",
    "https://data.gov.au/data/dataset/international-airlines-traffic-by-city-pairs/resource/ebcafd83-9514-4f72-a995-fe7ee90cb9da \n",
    "\n",
    "## International Airlines - Operated Flights and Seats (seats.csv) \n",
    "### This dataset contains information about international airlines to and from Australia in monthly intervals from September 2003 until September 2022. The data is provided by the Australian Government and covers airline activity, airport locations, and maximum seat capacity. \n",
    "\n",
    "https://data.datahub.freightaustralia.gov.au/dataset/international-airlines-operated-flights-andseats\n",
    "\n"
   ]
  },
  {
   "cell_type": "code",
   "execution_count": 2,
   "metadata": {},
   "outputs": [
    {
     "name": "stderr",
     "output_type": "stream",
     "text": [
      "D:\\0Code\\0PythonFile\\Anaconda3\\lib\\site-packages\\pandas\\compat\\_optional.py:138: UserWarning: Pandas requires version '2.7.0' or newer of 'numexpr' (version '2.6.9' currently installed).\n",
      "  warnings.warn(msg, UserWarning)\n"
     ]
    }
   ],
   "source": [
    "import pandas as pd"
   ]
  },
  {
   "cell_type": "code",
   "execution_count": 3,
   "metadata": {},
   "outputs": [],
   "source": [
    "def log(question, output_df, other):\n",
    "    print(\"--------------- {}----------------\".format(question))\n",
    "\n",
    "    if other is not None:\n",
    "        print(question, other)\n",
    "    if output_df is not None:\n",
    "        df = output_df.head(5).copy(True)\n",
    "        for c in df.columns:\n",
    "            df[c] = df[c].apply(lambda a: a[:20] if isinstance(a, str) else a)\n",
    "\n",
    "        df.columns = [a[:10] + \"...\" for a in df.columns]\n",
    "        print(df.to_string())"
   ]
  },
  {
   "cell_type": "markdown",
   "source": [
    "###### Q1: Using the “city_pairs.csv” dataset, load it in a data frame and add three new columns to it. \n",
    "###### The values should be one of “IN”, “OUT”, or “SAME”, depending on whether inbound or outbound numbers are higher, or they are the same"
   ],
   "metadata": {
    "collapsed": false
   }
  },
  {
   "cell_type": "code",
   "execution_count": 4,
   "metadata": {},
   "outputs": [
    {
     "name": "stdout",
     "output_type": "stream",
     "text": [
      "--------------- QUESTION 1----------------\n",
      "QUESTION 1 (84464, 18)\n",
      "  Australian... ForeignPor... passenger_... freight_in... mail_in_ou...\n",
      "0      Adelaide      Auckland            IN            IN           OUT\n",
      "1      Adelaide       Bahrain            IN           OUT          SAME\n",
      "2      Adelaide        Bombay            IN          SAME          SAME\n",
      "3      Adelaide     Frankfurt           OUT            IN           OUT\n",
      "4      Adelaide        London            IN           OUT           OUT\n"
     ]
    }
   ],
   "source": [
    "df1 = pd.read_csv('city_pairs.csv')\n",
    "# add new row\n",
    "df1['passenger_in_out'] = df1.apply(lambda row: 'IN' if row['Passengers_In'] > row['Passengers_Out'] else 'OUT' if row['Passengers_In'] < row['Passengers_Out'] else 'SAME', axis=1)\n",
    "df1['freight_in_out'] = df1.apply(lambda row: 'IN' if row['Freight_In_(tonnes)'] > row['Freight_Out_(tonnes)'] else 'OUT' if row['Freight_In_(tonnes)'] <row['Freight_Out_(tonnes)'] else 'SAME',axis=1)\n",
    "df1['mail_in_out'] = df1.apply(lambda row: 'IN' if row['Mail_In_(tonnes)'] > row['Mail_Out_(tonnes)'] else 'OUT' if row['Mail_In_(tonnes)'] <row['Mail_Out_(tonnes)'] else 'SAME',axis=1)\n",
    "\n",
    "    #################################################\n",
    "\n",
    "log(\"QUESTION 1\", output_df=df1[[\"AustralianPort\", \"ForeignPort\", \"passenger_in_out\", \"freight_in_out\", \"mail_in_out\"]], other=df1.shape)"
   ]
  },
  {
   "cell_type": "markdown",
   "source": [
    "###### Q2: Using the data frame from Question 1, create a new data frame with unique “AustralianPort” values and their total count of the “IN” or “OUT” labels derived in Question 1 for passengers, freight, and mail since January 1985 in separate columns. \n",
    "###### This must be sorted in order by \"PassengerInCount” (highest to lowest). There is no need to include counts for “SAME”"
   ],
   "metadata": {
    "collapsed": false
   }
  },
  {
   "cell_type": "code",
   "execution_count": 5,
   "metadata": {},
   "outputs": [
    {
     "name": "stdout",
     "output_type": "stream",
     "text": [
      "--------------- QUESTION 2----------------\n",
      "QUESTION 2 (19, 7)\n",
      "  Australian...  PassengerI...  PassengerO...  FreightInC...  FreightOut...  MailInCoun...  MailOutCou...\n",
      "9        Sydney          10548          10994          12493           9112           9664           7225\n",
      "5     Melbourne           7939           7311           7248           7591           6043           4457\n",
      "1      Brisbane           6837           6686           3970           7201           2580           5348\n",
      "7         Perth           4704           3604           2736           4341           2771           3671\n",
      "2        Cairns           2986           3639           1585           3233            538           1553\n"
     ]
    }
   ],
   "source": [
    "df2 = pd.DataFrame({'AustralianPort': df1['AustralianPort'].unique()})\n",
    "\n",
    "df2['PassengerInCount'] = df2['AustralianPort'].apply(lambda x: df1[(df1['AustralianPort']==x)&(df1['passenger_in_out']=='IN')].shape[0])\n",
    "df2['PassengerOutCount'] = df2['AustralianPort'].apply(lambda x: df1[(df1['AustralianPort']==x)&(df1['passenger_in_out']=='OUT')].shape[0])\n",
    "df2['FreightInCount'] = df2['AustralianPort'].apply(lambda x: df1[(df1['AustralianPort']==x)&(df1['freight_in_out']=='IN')].shape[0])\n",
    "df2['FreightOutCount'] = df2['AustralianPort'].apply(lambda x: df1[(df1['AustralianPort']==x)&(df1['freight_in_out']=='OUT')].shape[0])\n",
    "df2['MailInCount'] = df2['AustralianPort'].apply(lambda x: df1[(df1['AustralianPort']==x)&(df1['mail_in_out']=='IN')].shape[0])\n",
    "df2['MailOutCount'] = df2['AustralianPort'].apply(lambda x: df1[(df1['AustralianPort']==x)&(df1['mail_in_out']=='OUT')].shape[0])\n",
    "\n",
    "# sort by 'PassengerInCount'\n",
    "df2 = df2.sort_values('PassengerInCount', ascending=False)\n",
    "\n",
    "log(\"QUESTION 2\", output_df=df2, other=df2.shape)"
   ]
  },
  {
   "cell_type": "markdown",
   "source": [
    "###### Q3: Using the data frame from Question 1, create a new data frame with unique “Country” values and their average monthly passenger, freight, and mail values (including 2dp) for their respective \"_In” and “_Out” columns separately. \n",
    "###### This must be sorted in ascending order by “Passengers_in_average” (lowest to highest). \n",
    "###### If a country does not appear in a month, they need to be considered as 0 and still contribute to the average.   \n",
    "\n",
    "###### Take the following example input data frame which is from Jan 2022 to Feb 2022: \n",
    "Month AustralianPort ForeignPort PassengerIn PassengerOut Country ... \n",
    "Jan 2022 Sydney Shenzhen 10 20 China \n",
    "Jan 2022 Brisbane Toronto 5 10 Canada \n",
    "Jan 2022 Melbourne Singapore 8 12 Singapore \n",
    "Feb 2022 Adelaide Shenzhen 6 15 China \n",
    "Feb 2022 Sydney Montreal 1 25 Canada  \n",
    "###### An example output data frame would be as follows: \n",
    "Country Passengers_in_average Passengers_out_average ... \n",
    "Canada (5 + 1) / 2 = 3.00 (10 + 25) / 2 = 17.50 \n",
    "Singapore (8 + 0) / 2 = 4.00 (12 + 0) / 2 = 6.00 \n",
    "China (10 + 6) / 2 = 8.00 (20 + 15) / 2 = 17.50"
   ],
   "metadata": {
    "collapsed": false
   }
  },
  {
   "cell_type": "code",
   "execution_count": 6,
   "metadata": {},
   "outputs": [],
   "source": [
    "# df_temp = df1.groupby(\"Country\")[[\"Passengers_In\", \"Passengers_Out\", \"Freight_In_(tonnes)\", \"Freight_Out_(tonnes)\", \"Mail_In_(tonnes)\", \"Mail_Out_(tonnes)\"]]\n",
    "# df_temp = df_temp.sum()/452\n",
    "# df3 = pd.DataFrame({\"Country\": df_temp.index,\n",
    "#                     \"Passengers_in_average\": df_temp[\"Passengers_In\"],\n",
    "#                     \"Passengers_out_average\": df_temp[\"Passengers_Out\"],\n",
    "#                     \"Freight_in_average\": df_temp[\"Freight_In_(tonnes)\"],\n",
    "#                     \"Freight_out_average\": df_temp[\"Freight_Out_(tonnes)\"],\n",
    "#                     \"Mail_in_average\": df_temp[\"Mail_In_(tonnes)\"],\n",
    "#                     \"Mail_out_average\": df_temp[\"Mail_Out_(tonnes)\"]})\n",
    "# df3 = df3.sort_values('Passengers_in_average', ascending=True)\n",
    "\n",
    "# log(\"QUESTION 3\", output_df=df3, other=df3.shape)"
   ]
  },
  {
   "cell_type": "code",
   "execution_count": 7,
   "metadata": {},
   "outputs": [
    {
     "name": "stdout",
     "output_type": "stream",
     "text": [
      "--------------- QUESTION 3----------------\n",
      "QUESTION 3 (74, 7)\n",
      "   Country...  Passengers...  Passengers...  Freight_in...  Freight_ou...  Mail_in_av...  Mail_out_a...\n",
      "0  Kazakhstan            0.0            0.0           0.00           6.52            0.0            0.0\n",
      "1     Nigeria            0.0            0.0           0.00           0.45            0.0            0.0\n",
      "2     Ireland            0.0            0.0           0.00           0.06            0.0            0.0\n",
      "3        Laos            0.0            0.0           0.00           0.60            0.0            0.0\n",
      "4       Macau            0.0            0.0           0.12           1.71            0.0            0.0\n"
     ]
    }
   ],
   "source": [
    "def format_date(date_str):\n",
    "    month_temp = ['Jan','Feb','Mar','Apr','May','Jun','Jul','Aug','Sep','Oct','Nov','Dec']\n",
    "    month,year = date_str.split('-')\n",
    "    if int(year)>24:\n",
    "        year = str(int(year)+1900)\n",
    "    else:\n",
    "        year = str(int(year)+2000)\n",
    "    return year+'-'+str(month_temp.index(month)+1).zfill(2)\n",
    "\n",
    "date_max = df1[\"Month\"].apply(format_date).max()\n",
    "date_min = df1[\"Month\"].apply(format_date).min()\n",
    "totol_month = (int(date_max.split('-')[0])-int(date_min.split('-')[0])-1)*12 + 12-int(date_min.split('-')[1]) + int(date_max.split('-')[1])+1\n",
    "\n",
    "df_temp = df1.groupby(\"Country\")[[\"Passengers_In\", \"Passengers_Out\", \"Freight_In_(tonnes)\", \"Freight_Out_(tonnes)\", \"Mail_In_(tonnes)\", \"Mail_Out_(tonnes)\"]]\n",
    "df_temp = df_temp.sum()/totol_month\n",
    "df_temp = df_temp.round(2)\n",
    "df3 = pd.DataFrame({\"Passengers_in_average\": df_temp[\"Passengers_In\"],\n",
    "                    \"Passengers_out_average\": df_temp[\"Passengers_Out\"],\n",
    "                    \"Freight_in_average\": df_temp[\"Freight_In_(tonnes)\"],\n",
    "                    \"Freight_out_average\": df_temp[\"Freight_Out_(tonnes)\"],\n",
    "                    \"Mail_in_average\": df_temp[\"Mail_In_(tonnes)\"],\n",
    "                    \"Mail_out_average\": df_temp[\"Mail_Out_(tonnes)\"]})\n",
    "df3 = df3.sort_values('Passengers_in_average', ascending=True).reset_index()\n",
    "\n",
    "log(\"QUESTION 3\", output_df=df3, other=df3.shape)"
   ]
  },
  {
   "cell_type": "markdown",
   "source": [
    "###### Q4: Using the data frame from Question 1, create a new data frame with a descending (highest to lowest) column of the top 5 “Unique_ForeignPort_Count”. If the counts are the same for a country, use alphabetical order. \n",
    "\n",
    "“Unique_ForeignPort_Count” is the count where routes with at least 1 passenger exist (I.e. where \n",
    "passengers_out > 0) in a unique month from one unique “AustralianPort” to one unique “Country”, \n",
    "but with more than one “ForeignPort” used in that month by that “AustralianPort”. For example, if \n",
    "the input table had the below data, they would be counted as 5 separate occurrences:\n",
    " \n",
    "1 Sydney to Dubai, United Arab Emirates in September 2022 \n",
    "2 Sydney to Abu Dhabi, United Arab Emirates in September 2022 \n",
    " \n",
    "1 Sydney to Dubai, United Arab Emirates in August 2022 \n",
    "2 Sydney to Abu Dhabi, United Arab Emirates in August 2022 \n",
    " \n",
    "1 Melbourne to Dubai, United Arab Emirates in August 2022 \n",
    "2 Melbourne to Abu Dhabi, United Arab Emirates in August 2022 \n",
    " \n",
    "1 Melbourne to Auckland, New Zealand in September 2022 \n",
    "2 Auckland to Melbourne, New Zealand in September 2022 \n",
    "3 Christchurch to Melbourne, New Zealand in September 2022 \n",
    "4 Melbourne to Queenstown, New Zealand in September 2022 \n",
    "5 Melbourne to Wellington, New Zealand in September 2022\n",
    "(note – #3 and #4 could be ignored and the outcome will be the same, because inbound routes are \n",
    "disregarded) \n",
    "\n",
    "1 Brisbane to Shenzhen, China in November 2021 \n",
    "2 Brisbane to Shanghai, China in November 2021 \n",
    " \n",
    "1 Brisbane to Hong Kong, Hong Kong in November 2021 (Note – this is not counted as there is \n",
    "only one ForeignPort used in Hong Kong in this month) \n",
    "\n",
    "\n",
    "The output for the above would therefore be: \n",
    "Country Unique_ForeignPort_Count \n",
    "United Arab Emirates 3 \n",
    "China 1 \n",
    "New Zealand 1 \n",
    "\n",
    "\n"
   ],
   "metadata": {
    "collapsed": false
   }
  },
  {
   "cell_type": "code",
   "execution_count": 8,
   "metadata": {},
   "outputs": [
    {
     "name": "stdout",
     "output_type": "stream",
     "text": [
      "--------------- QUESTION 4----------------\n",
      "QUESTION 4 (21, 2)\n",
      "     Country...  Unique_For...\n",
      "9   New Zealand           2145\n",
      "5     Indonesia           1887\n",
      "16          USA           1749\n",
      "7         Japan           1336\n",
      "2         China            860\n"
     ]
    }
   ],
   "source": [
    "df4_temp = df1[df1['Passengers_Out'] > 0]\n",
    "df4_temp2 = df4_temp.groupby(['AustralianPort', 'Country', 'Month']).ForeignPort.nunique().reset_index()\n",
    "df4_temp2 = df4_temp2[df4_temp2['ForeignPort']>1]\n",
    "df4_temp3 = df4_temp2.groupby('Country').size().reset_index(name='Unique_ForeignPort_Count')\n",
    "df4 = df4_temp3.sort_values(['Unique_ForeignPort_Count','Country'],ascending=[False,True])\n",
    "log(\"QUESTION 4\", output_df=df4, other=df4.shape)"
   ]
  },
  {
   "cell_type": "markdown",
   "source": [
    "###### Q5: Using the “seats.csv dataset”, load it in a data frame and add two new columns “Source_City” and “Destination_City” to it: \n",
    "If “In_Out” is “I”, then this flight is inbound to Australia. The “Source_City” is set to the \n",
    "“International_City” and the “Destination_City” is set to the “Australian_City”. \n",
    "\n",
    "If “In_Out” is “O”, then this flight is outbound from Australia. The “Source_City” is set to the \n",
    "“Australian_City” and the “Destination_City” is set to the “International_City”. \n",
    "\n",
    "Output: a data frame with all the columns you have loaded from “seats.csv” and the two new \n",
    "columns. The ordering should be preserved from the original CSV file. \n"
   ],
   "metadata": {
    "collapsed": false
   }
  },
  {
   "cell_type": "markdown",
   "source": [],
   "metadata": {
    "collapsed": false
   }
  },
  {
   "cell_type": "code",
   "execution_count": 9,
   "metadata": {},
   "outputs": [
    {
     "name": "stdout",
     "output_type": "stream",
     "text": [
      "--------------- QUESTION 5----------------\n",
      "QUESTION 5 (110055, 17)\n",
      "  Month... In_Out... Australian... Internatio...            Airline...         Route...    Port_Count... Port_Regio...    Service_Co... Service_Re...  Stops...  All_Flight...  Max_Seats...  Year...  Month_num... Source_Cit... Destinatio...\n",
      "0   Sep-03         I      Adelaide      Denpasar      Garuda Indonesia      DPS-ADL-MEL        Indonesia       SE Asia        Indonesia       SE Asia         0             13          3809     2003             9      Denpasar      Adelaide\n",
      "1   Sep-03         I      Adelaide     Hong Kong  Cathay Pacific Airwa      HKG-ADL-MEL  Hong Kong (SAR)       NE Asia  Hong Kong (SAR)       NE Asia         0              8          2008     2003             9     Hong Kong      Adelaide\n",
      "2   Sep-03         I      Adelaide  Kuala Lumpur     Malaysia Airlines          KUL-ADL         Malaysia       SE Asia         Malaysia       SE Asia         0             17          4726     2003             9  Kuala Lumpur      Adelaide\n",
      "3   Sep-03         I      Adelaide     Singapore        Qantas Airways  SIN-DRW-ADL-MEL        Singapore       SE Asia        Singapore       SE Asia         1              4           908     2003             9     Singapore      Adelaide\n",
      "4   Sep-03         I      Adelaide     Singapore        Qantas Airways  SIN-DRW-ADL-SYD        Singapore       SE Asia        Singapore       SE Asia         1              9          2038     2003             9     Singapore      Adelaide\n"
     ]
    }
   ],
   "source": [
    "df5 = pd.read_csv('seats.csv')\n",
    "\n",
    "df5['Source_City'] = df5.apply(lambda x: x['International_City'] if x['In_Out'] == 'I' else x['Australian_City'], axis=1)\n",
    "df5['Destination_City'] = df5.apply(lambda x: x['Australian_City'] if x['In_Out'] == 'I' else x['International_City'], axis=1)\n",
    "\n",
    "log(\"QUESTION 5\", output_df=df5, other=df5.shape)"
   ]
  },
  {
   "cell_type": "markdown",
   "source": [
    "Q6: Airlines invest resources to plan specific routes around passenger numbers and competing airlines. For example, Fiji, Jetstar, Qantas, and Virgin fly from Sydney to Nadi. A new airline operating this route may face greater competition than Sydney to Port Vila, which only has Air Vanuatu operating it. However, passenger trends and numbers may have changed over time and a greater number of travellers to Nadi means profitability should still be explored. \n",
    "\n",
    "Planes are often used on multi city routes. For example, Jetstar can fly to Tokyo via the Gold Coast through Melbourne or Sydney. You may focus on the Australian_City and International_City, as international flight segments of the same plane are already considered in this data set. For example, MEL > SYD > SGN is considered separately for Australian_City values Melbourne and Sydney based on where passengers board.\n",
    "\n",
    "###### Using the data frame from Q5, create a data frame to consolidate statistics for a new or existing airline to understand routes. Your data frame must only include information relevant for airlines to understand the market and how well origin and destination pairs are being serviced. You should add a 250-word comment with optional assumptions to explain your thinking. You may consider dropping unused columns, combining and/or adding values and/or rows, or focusing on regions as you wish. "
   ],
   "metadata": {
    "collapsed": false
   }
  },
  {
   "cell_type": "code",
   "execution_count": 10,
   "metadata": {},
   "outputs": [
    {
     "name": "stderr",
     "output_type": "stream",
     "text": [
      "D:\\0Code\\0PythonFile\\Anaconda3\\lib\\site-packages\\ipykernel_launcher.py:2: SettingWithCopyWarning: \n",
      "A value is trying to be set on a copy of a slice from a DataFrame.\n",
      "Try using .loc[row_indexer,col_indexer] = value instead\n",
      "\n",
      "See the caveats in the documentation: https://pandas.pydata.org/pandas-docs/stable/user_guide/indexing.html#returning-a-view-versus-a-copy\n",
      "  \n",
      "D:\\0Code\\0PythonFile\\Anaconda3\\lib\\site-packages\\ipykernel_launcher.py:3: SettingWithCopyWarning: \n",
      "A value is trying to be set on a copy of a slice from a DataFrame.\n",
      "Try using .loc[row_indexer,col_indexer] = value instead\n",
      "\n",
      "See the caveats in the documentation: https://pandas.pydata.org/pandas-docs/stable/user_guide/indexing.html#returning-a-view-versus-a-copy\n",
      "  This is separate from the ipykernel package so we can avoid doing imports until\n"
     ]
    },
    {
     "data": {
      "text/html": [
       "<div>\n",
       "<style scoped>\n",
       "    .dataframe tbody tr th:only-of-type {\n",
       "        vertical-align: middle;\n",
       "    }\n",
       "\n",
       "    .dataframe tbody tr th {\n",
       "        vertical-align: top;\n",
       "    }\n",
       "\n",
       "    .dataframe thead th {\n",
       "        text-align: right;\n",
       "    }\n",
       "</style>\n",
       "<table border=\"1\" class=\"dataframe\">\n",
       "  <thead>\n",
       "    <tr style=\"text-align: right;\">\n",
       "      <th></th>\n",
       "      <th>Airline</th>\n",
       "      <th>Month</th>\n",
       "      <th>Year</th>\n",
       "      <th>Month_num</th>\n",
       "      <th>city1</th>\n",
       "      <th>city2</th>\n",
       "      <th>Route</th>\n",
       "      <th>Max_Seats</th>\n",
       "    </tr>\n",
       "  </thead>\n",
       "  <tbody>\n",
       "    <tr>\n",
       "      <th>0</th>\n",
       "      <td>Garuda Indonesia</td>\n",
       "      <td>Sep-03</td>\n",
       "      <td>2003</td>\n",
       "      <td>9</td>\n",
       "      <td>DPS</td>\n",
       "      <td>MEL</td>\n",
       "      <td>DPS-ADL-MEL</td>\n",
       "      <td>3809</td>\n",
       "    </tr>\n",
       "    <tr>\n",
       "      <th>1</th>\n",
       "      <td>Cathay Pacific Airways</td>\n",
       "      <td>Sep-03</td>\n",
       "      <td>2003</td>\n",
       "      <td>9</td>\n",
       "      <td>HKG</td>\n",
       "      <td>MEL</td>\n",
       "      <td>HKG-ADL-MEL</td>\n",
       "      <td>2008</td>\n",
       "    </tr>\n",
       "    <tr>\n",
       "      <th>2</th>\n",
       "      <td>Malaysia Airlines</td>\n",
       "      <td>Sep-03</td>\n",
       "      <td>2003</td>\n",
       "      <td>9</td>\n",
       "      <td>KUL</td>\n",
       "      <td>ADL</td>\n",
       "      <td>KUL-ADL</td>\n",
       "      <td>4726</td>\n",
       "    </tr>\n",
       "    <tr>\n",
       "      <th>5</th>\n",
       "      <td>Singapore Airlines</td>\n",
       "      <td>Sep-03</td>\n",
       "      <td>2003</td>\n",
       "      <td>9</td>\n",
       "      <td>SIN</td>\n",
       "      <td>ADL</td>\n",
       "      <td>SIN-ADL</td>\n",
       "      <td>3876</td>\n",
       "    </tr>\n",
       "    <tr>\n",
       "      <th>6</th>\n",
       "      <td>Air New Zealand</td>\n",
       "      <td>Sep-03</td>\n",
       "      <td>2003</td>\n",
       "      <td>9</td>\n",
       "      <td>AKL</td>\n",
       "      <td>BNE</td>\n",
       "      <td>AKL-BNE</td>\n",
       "      <td>12624</td>\n",
       "    </tr>\n",
       "    <tr>\n",
       "      <th>...</th>\n",
       "      <td>...</td>\n",
       "      <td>...</td>\n",
       "      <td>...</td>\n",
       "      <td>...</td>\n",
       "      <td>...</td>\n",
       "      <td>...</td>\n",
       "      <td>...</td>\n",
       "      <td>...</td>\n",
       "    </tr>\n",
       "    <tr>\n",
       "      <th>110050</th>\n",
       "      <td>Air Canada</td>\n",
       "      <td>Sep-22</td>\n",
       "      <td>2022</td>\n",
       "      <td>9</td>\n",
       "      <td>SYD</td>\n",
       "      <td>YVR</td>\n",
       "      <td>SYD-YVR</td>\n",
       "      <td>10232</td>\n",
       "    </tr>\n",
       "    <tr>\n",
       "      <th>110051</th>\n",
       "      <td>Qantas Airways</td>\n",
       "      <td>Sep-22</td>\n",
       "      <td>2022</td>\n",
       "      <td>9</td>\n",
       "      <td>SYD</td>\n",
       "      <td>YVR</td>\n",
       "      <td>SYD-YVR</td>\n",
       "      <td>3068</td>\n",
       "    </tr>\n",
       "    <tr>\n",
       "      <th>110052</th>\n",
       "      <td>Air New Zealand</td>\n",
       "      <td>Sep-22</td>\n",
       "      <td>2022</td>\n",
       "      <td>9</td>\n",
       "      <td>SYD</td>\n",
       "      <td>WLG</td>\n",
       "      <td>SYD-WLG</td>\n",
       "      <td>4686</td>\n",
       "    </tr>\n",
       "    <tr>\n",
       "      <th>110053</th>\n",
       "      <td>Qantas Airways</td>\n",
       "      <td>Sep-22</td>\n",
       "      <td>2022</td>\n",
       "      <td>9</td>\n",
       "      <td>SYD</td>\n",
       "      <td>WLG</td>\n",
       "      <td>SYD-WLG</td>\n",
       "      <td>7308</td>\n",
       "    </tr>\n",
       "    <tr>\n",
       "      <th>110054</th>\n",
       "      <td>Xiamen Airlines</td>\n",
       "      <td>Sep-22</td>\n",
       "      <td>2022</td>\n",
       "      <td>9</td>\n",
       "      <td>SYD</td>\n",
       "      <td>XMN</td>\n",
       "      <td>SYD-XMN</td>\n",
       "      <td>1946</td>\n",
       "    </tr>\n",
       "  </tbody>\n",
       "</table>\n",
       "<p>92974 rows × 8 columns</p>\n",
       "</div>"
      ],
      "text/plain": [
       "                       Airline   Month  Year  Month_num city1 city2  \\\n",
       "0             Garuda Indonesia  Sep-03  2003          9   DPS   MEL   \n",
       "1       Cathay Pacific Airways  Sep-03  2003          9   HKG   MEL   \n",
       "2            Malaysia Airlines  Sep-03  2003          9   KUL   ADL   \n",
       "5           Singapore Airlines  Sep-03  2003          9   SIN   ADL   \n",
       "6              Air New Zealand  Sep-03  2003          9   AKL   BNE   \n",
       "...                        ...     ...   ...        ...   ...   ...   \n",
       "110050              Air Canada  Sep-22  2022          9   SYD   YVR   \n",
       "110051          Qantas Airways  Sep-22  2022          9   SYD   YVR   \n",
       "110052         Air New Zealand  Sep-22  2022          9   SYD   WLG   \n",
       "110053          Qantas Airways  Sep-22  2022          9   SYD   WLG   \n",
       "110054         Xiamen Airlines  Sep-22  2022          9   SYD   XMN   \n",
       "\n",
       "              Route  Max_Seats  \n",
       "0       DPS-ADL-MEL       3809  \n",
       "1       HKG-ADL-MEL       2008  \n",
       "2           KUL-ADL       4726  \n",
       "5           SIN-ADL       3876  \n",
       "6           AKL-BNE      12624  \n",
       "...             ...        ...  \n",
       "110050      SYD-YVR      10232  \n",
       "110051      SYD-YVR       3068  \n",
       "110052      SYD-WLG       4686  \n",
       "110053      SYD-WLG       7308  \n",
       "110054      SYD-XMN       1946  \n",
       "\n",
       "[92974 rows x 8 columns]"
      ]
     },
     "execution_count": 10,
     "metadata": {},
     "output_type": "execute_result"
    }
   ],
   "source": [
    "df6_temp = df5[df5['Stops']==0]\n",
    "df6_temp['city1'] = df5['Route'].str.split('-', expand=True)[0]\n",
    "df6_temp['city2'] = df5['Route'].str.rsplit('-',n=1,expand=True)[1]\n",
    "df6 = df6_temp[['Airline','Month','Year','Month_num','city1','city2','Route','Max_Seats']]\n",
    "df6"
   ]
  },
  {
   "cell_type": "code",
   "execution_count": 13,
   "metadata": {},
   "outputs": [
    {
     "data": {
      "image/png": "[encoded data removed]",
      "text/plain": [
       "<Figure size 432x288 with 1 Axes>"
      ]
     },
     "metadata": {
      "needs_background": "light"
     },
     "output_type": "display_data"
    }
   ],
   "source": [
    "temp1 = df1[['Month','AustralianPort','Passengers_Total']]\n",
    "temp3 = temp1.groupby(['Month','AustralianPort']).agg({\"Passengers_Total\":'sum'}).reset_index()\n",
    "temp2 = df5[['Month','Australian_City','Max_Seats']]\n",
    "temp4 = temp2.groupby(['Month','Australian_City']).agg({\"Max_Seats\":'sum'}).reset_index()\n",
    "temp4.rename(columns={'Australian_City': 'AustralianPort'}, inplace=True)\n",
    "temp5 = pd.merge(temp3,temp4,on = ['Month','AustralianPort'])\n",
    "data1 = temp5.groupby('Month').Passengers_Total.sum().tolist()\n",
    "data2 = temp5.groupby('Month').Max_Seats.sum().tolist()\n",
    "import matplotlib.pyplot as plt\n",
    "x = range(len(temp5[\"Month\"].unique()))\n",
    "plt.plot(x,data1,label='Passengers')\n",
    "plt.plot(x,data2,label='Max_Seats')\n",
    "plt.xlabel('month')\n",
    "plt.ylabel('count')\n",
    "plt.title('The change of the number of Passengers and the Max_Seats with month')\n",
    "plt.show()"
   ]
  }
 ],
 "metadata": {
  "kernelspec": {
   "display_name": "Python 3 (ipykernel)",
   "language": "python",
   "name": "python3"
  },
  "language_info": {
   "codemirror_mode": {
    "name": "ipython",
    "version": 3
   },
   "file_extension": ".py",
   "mimetype": "text/x-python",
   "name": "python",
   "nbconvert_exporter": "python",
   "pygments_lexer": "ipython3",
   "version": "3.9.13"
  }
 },
 "nbformat": 4,
 "nbformat_minor": 2
}
